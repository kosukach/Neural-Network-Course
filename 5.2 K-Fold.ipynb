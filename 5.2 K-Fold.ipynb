{
 "cells": [
  {
   "cell_type": "code",
   "execution_count": 0,
   "metadata": {
    "colab": {},
    "colab_type": "code",
    "id": "cyBUbkljDQpN"
   },
   "outputs": [],
   "source": [
    "import pandas as pd\n",
    "import numpy as np\n",
    "import os\n",
    "from sklearn import metrics\n",
    "from scipy.stats import zscore\n",
    "from sklearn.model_selection import train_test_split, KFold, StratifiedKFold\n",
    "from sklearn.linear_model import LinearRegression\n",
    "from tensorflow.keras.models import Sequential\n",
    "from tensorflow.keras.layers import Dense, Activation\n",
    "\n"
   ]
  },
  {
   "cell_type": "code",
   "execution_count": 0,
   "metadata": {
    "colab": {},
    "colab_type": "code",
    "id": "zAkoOKpiDQpU"
   },
   "outputs": [],
   "source": [
    "df = pd.read_csv(\n",
    "    \"https://data.heatonresearch.com/data/t81-558/jh-simple-dataset.csv\",\n",
    "    na_values=['NA','?'])\n",
    "# Generate dummies for job\n",
    "df = pd.concat([df,pd.get_dummies(df['job'],prefix=\"job\")],axis=1)\n",
    "df.drop('job', axis=1, inplace=True)\n",
    "\n",
    "# Generate dummies for area\n",
    "df = pd.concat([df,pd.get_dummies(df['area'],prefix=\"area\")],axis=1)\n",
    "df.drop('area', axis=1, inplace=True)\n",
    "\n",
    "# Generate dummies for product\n",
    "df = pd.concat([df,pd.get_dummies(df['product'],prefix=\"product\")],axis=1)\n",
    "df.drop('product', axis=1, inplace=True)"
   ]
  },
  {
   "cell_type": "code",
   "execution_count": 4,
   "metadata": {
    "colab": {
     "base_uri": "https://localhost:8080/",
     "height": 136
    },
    "colab_type": "code",
    "id": "zY1Iak6jDQpY",
    "outputId": "bc3f6803-082a-439e-830f-b919d2fd8d4c"
   },
   "outputs": [
    {
     "name": "stderr",
     "output_type": "stream",
     "text": [
      "/usr/local/lib/python3.6/dist-packages/ipykernel_launcher.py:7: SettingWithCopyWarning: \n",
      "A value is trying to be set on a copy of a slice from a DataFrame.\n",
      "Try using .loc[row_indexer,col_indexer] = value instead\n",
      "\n",
      "See the caveats in the documentation: https://pandas.pydata.org/pandas-docs/stable/user_guide/indexing.html#returning-a-view-versus-a-copy\n",
      "  import sys\n"
     ]
    },
    {
     "data": {
      "text/plain": [
       "0.8328741332235645"
      ]
     },
     "execution_count": 4,
     "metadata": {
      "tags": []
     },
     "output_type": "execute_result"
    }
   ],
   "source": [
    "nonna = df[df[\"income\"].notna()]\n",
    "isna = df[df[\"income\"].isnull()]\n",
    "nx = nonna.drop([\"income\", \"age\"], axis=1).values\n",
    "ny = nonna[\"income\"].values\n",
    "nx_train, nx_test, ny_train, ny_test = train_test_split(nx, ny, test_size=0.2)\n",
    "reg = LinearRegression().fit(nx_train, ny_train)\n",
    "isna[\"income\"] = reg.predict(isna.drop([\"income\", \"age\"], axis=1).values)\n",
    "df = pd.concat([isna, nonna], axis=0)\n",
    "reg.score(nx_test, ny_test)"
   ]
  },
  {
   "cell_type": "code",
   "execution_count": 0,
   "metadata": {
    "colab": {},
    "colab_type": "code",
    "id": "jJShHr8kDQpf"
   },
   "outputs": [],
   "source": [
    "df['income'] = zscore(df['income'])\n",
    "df['aspect'] = zscore(df['aspect'])\n",
    "df['save_rate'] = zscore(df['save_rate'])\n",
    "df['subscriptions'] = zscore(df['subscriptions'])\n",
    "df[\"dist_unhealthy\"] = zscore(df[\"dist_unhealthy\"])"
   ]
  },
  {
   "cell_type": "code",
   "execution_count": 6,
   "metadata": {
    "colab": {
     "base_uri": "https://localhost:8080/",
     "height": 224
    },
    "colab_type": "code",
    "id": "1zetmVADDQpj",
    "outputId": "a9dcd33d-decb-43fc-b5ab-a899df4c475b"
   },
   "outputs": [
    {
     "data": {
      "text/html": [
       "<div>\n",
       "<style scoped>\n",
       "    .dataframe tbody tr th:only-of-type {\n",
       "        vertical-align: middle;\n",
       "    }\n",
       "\n",
       "    .dataframe tbody tr th {\n",
       "        vertical-align: top;\n",
       "    }\n",
       "\n",
       "    .dataframe thead th {\n",
       "        text-align: right;\n",
       "    }\n",
       "</style>\n",
       "<table border=\"1\" class=\"dataframe\">\n",
       "  <thead>\n",
       "    <tr style=\"text-align: right;\">\n",
       "      <th></th>\n",
       "      <th>id</th>\n",
       "      <th>income</th>\n",
       "      <th>aspect</th>\n",
       "      <th>subscriptions</th>\n",
       "      <th>dist_healthy</th>\n",
       "      <th>save_rate</th>\n",
       "      <th>dist_unhealthy</th>\n",
       "      <th>age</th>\n",
       "      <th>pop_dense</th>\n",
       "      <th>retail_dense</th>\n",
       "      <th>crime</th>\n",
       "      <th>job_11</th>\n",
       "      <th>job_al</th>\n",
       "      <th>job_am</th>\n",
       "      <th>job_ax</th>\n",
       "      <th>job_bf</th>\n",
       "      <th>job_by</th>\n",
       "      <th>job_cv</th>\n",
       "      <th>job_de</th>\n",
       "      <th>job_dz</th>\n",
       "      <th>job_e2</th>\n",
       "      <th>job_f8</th>\n",
       "      <th>job_gj</th>\n",
       "      <th>job_gv</th>\n",
       "      <th>job_kd</th>\n",
       "      <th>job_ke</th>\n",
       "      <th>job_kl</th>\n",
       "      <th>job_kp</th>\n",
       "      <th>job_ks</th>\n",
       "      <th>job_kw</th>\n",
       "      <th>job_mm</th>\n",
       "      <th>job_nb</th>\n",
       "      <th>job_nn</th>\n",
       "      <th>job_ob</th>\n",
       "      <th>job_pe</th>\n",
       "      <th>job_po</th>\n",
       "      <th>job_pq</th>\n",
       "      <th>job_pz</th>\n",
       "      <th>job_qp</th>\n",
       "      <th>job_qw</th>\n",
       "      <th>job_rn</th>\n",
       "      <th>job_sa</th>\n",
       "      <th>job_vv</th>\n",
       "      <th>job_zz</th>\n",
       "      <th>area_a</th>\n",
       "      <th>area_b</th>\n",
       "      <th>area_c</th>\n",
       "      <th>area_d</th>\n",
       "      <th>product_a</th>\n",
       "      <th>product_b</th>\n",
       "      <th>product_c</th>\n",
       "      <th>product_d</th>\n",
       "      <th>product_e</th>\n",
       "      <th>product_f</th>\n",
       "      <th>product_g</th>\n",
       "    </tr>\n",
       "  </thead>\n",
       "  <tbody>\n",
       "    <tr>\n",
       "      <th>35</th>\n",
       "      <td>36</td>\n",
       "      <td>-0.187617</td>\n",
       "      <td>-0.494600</td>\n",
       "      <td>-0.208449</td>\n",
       "      <td>5.454545</td>\n",
       "      <td>-0.387695</td>\n",
       "      <td>-1.105761</td>\n",
       "      <td>50</td>\n",
       "      <td>0.874016</td>\n",
       "      <td>0.417323</td>\n",
       "      <td>0.238394</td>\n",
       "      <td>0</td>\n",
       "      <td>0</td>\n",
       "      <td>0</td>\n",
       "      <td>0</td>\n",
       "      <td>0</td>\n",
       "      <td>0</td>\n",
       "      <td>0</td>\n",
       "      <td>0</td>\n",
       "      <td>0</td>\n",
       "      <td>0</td>\n",
       "      <td>0</td>\n",
       "      <td>0</td>\n",
       "      <td>0</td>\n",
       "      <td>1</td>\n",
       "      <td>0</td>\n",
       "      <td>0</td>\n",
       "      <td>0</td>\n",
       "      <td>0</td>\n",
       "      <td>0</td>\n",
       "      <td>0</td>\n",
       "      <td>0</td>\n",
       "      <td>0</td>\n",
       "      <td>0</td>\n",
       "      <td>0</td>\n",
       "      <td>0</td>\n",
       "      <td>0</td>\n",
       "      <td>0</td>\n",
       "      <td>0</td>\n",
       "      <td>0</td>\n",
       "      <td>0</td>\n",
       "      <td>0</td>\n",
       "      <td>0</td>\n",
       "      <td>0</td>\n",
       "      <td>0</td>\n",
       "      <td>0</td>\n",
       "      <td>1</td>\n",
       "      <td>0</td>\n",
       "      <td>0</td>\n",
       "      <td>1</td>\n",
       "      <td>0</td>\n",
       "      <td>0</td>\n",
       "      <td>0</td>\n",
       "      <td>0</td>\n",
       "      <td>0</td>\n",
       "    </tr>\n",
       "    <tr>\n",
       "      <th>69</th>\n",
       "      <td>70</td>\n",
       "      <td>0.237540</td>\n",
       "      <td>-0.996591</td>\n",
       "      <td>-0.208449</td>\n",
       "      <td>9.289907</td>\n",
       "      <td>-0.542432</td>\n",
       "      <td>-1.169511</td>\n",
       "      <td>47</td>\n",
       "      <td>0.858268</td>\n",
       "      <td>0.503937</td>\n",
       "      <td>0.263349</td>\n",
       "      <td>0</td>\n",
       "      <td>1</td>\n",
       "      <td>0</td>\n",
       "      <td>0</td>\n",
       "      <td>0</td>\n",
       "      <td>0</td>\n",
       "      <td>0</td>\n",
       "      <td>0</td>\n",
       "      <td>0</td>\n",
       "      <td>0</td>\n",
       "      <td>0</td>\n",
       "      <td>0</td>\n",
       "      <td>0</td>\n",
       "      <td>0</td>\n",
       "      <td>0</td>\n",
       "      <td>0</td>\n",
       "      <td>0</td>\n",
       "      <td>0</td>\n",
       "      <td>0</td>\n",
       "      <td>0</td>\n",
       "      <td>0</td>\n",
       "      <td>0</td>\n",
       "      <td>0</td>\n",
       "      <td>0</td>\n",
       "      <td>0</td>\n",
       "      <td>0</td>\n",
       "      <td>0</td>\n",
       "      <td>0</td>\n",
       "      <td>0</td>\n",
       "      <td>0</td>\n",
       "      <td>0</td>\n",
       "      <td>0</td>\n",
       "      <td>0</td>\n",
       "      <td>0</td>\n",
       "      <td>0</td>\n",
       "      <td>1</td>\n",
       "      <td>0</td>\n",
       "      <td>0</td>\n",
       "      <td>0</td>\n",
       "      <td>1</td>\n",
       "      <td>0</td>\n",
       "      <td>0</td>\n",
       "      <td>0</td>\n",
       "      <td>0</td>\n",
       "    </tr>\n",
       "    <tr>\n",
       "      <th>101</th>\n",
       "      <td>102</td>\n",
       "      <td>0.893694</td>\n",
       "      <td>1.360973</td>\n",
       "      <td>-1.255928</td>\n",
       "      <td>16.715820</td>\n",
       "      <td>-0.353308</td>\n",
       "      <td>-0.310185</td>\n",
       "      <td>44</td>\n",
       "      <td>0.925197</td>\n",
       "      <td>0.692913</td>\n",
       "      <td>0.086156</td>\n",
       "      <td>0</td>\n",
       "      <td>0</td>\n",
       "      <td>0</td>\n",
       "      <td>0</td>\n",
       "      <td>0</td>\n",
       "      <td>0</td>\n",
       "      <td>0</td>\n",
       "      <td>0</td>\n",
       "      <td>0</td>\n",
       "      <td>0</td>\n",
       "      <td>0</td>\n",
       "      <td>0</td>\n",
       "      <td>0</td>\n",
       "      <td>0</td>\n",
       "      <td>0</td>\n",
       "      <td>0</td>\n",
       "      <td>0</td>\n",
       "      <td>0</td>\n",
       "      <td>0</td>\n",
       "      <td>0</td>\n",
       "      <td>0</td>\n",
       "      <td>1</td>\n",
       "      <td>0</td>\n",
       "      <td>0</td>\n",
       "      <td>0</td>\n",
       "      <td>0</td>\n",
       "      <td>0</td>\n",
       "      <td>0</td>\n",
       "      <td>0</td>\n",
       "      <td>0</td>\n",
       "      <td>0</td>\n",
       "      <td>0</td>\n",
       "      <td>0</td>\n",
       "      <td>0</td>\n",
       "      <td>0</td>\n",
       "      <td>1</td>\n",
       "      <td>0</td>\n",
       "      <td>0</td>\n",
       "      <td>0</td>\n",
       "      <td>1</td>\n",
       "      <td>0</td>\n",
       "      <td>0</td>\n",
       "      <td>0</td>\n",
       "      <td>0</td>\n",
       "    </tr>\n",
       "    <tr>\n",
       "      <th>134</th>\n",
       "      <td>135</td>\n",
       "      <td>0.133534</td>\n",
       "      <td>-1.408940</td>\n",
       "      <td>-0.208449</td>\n",
       "      <td>7.875447</td>\n",
       "      <td>0.282834</td>\n",
       "      <td>-0.487775</td>\n",
       "      <td>44</td>\n",
       "      <td>0.826772</td>\n",
       "      <td>0.586614</td>\n",
       "      <td>0.303499</td>\n",
       "      <td>0</td>\n",
       "      <td>0</td>\n",
       "      <td>0</td>\n",
       "      <td>0</td>\n",
       "      <td>0</td>\n",
       "      <td>0</td>\n",
       "      <td>0</td>\n",
       "      <td>0</td>\n",
       "      <td>0</td>\n",
       "      <td>0</td>\n",
       "      <td>0</td>\n",
       "      <td>0</td>\n",
       "      <td>0</td>\n",
       "      <td>0</td>\n",
       "      <td>0</td>\n",
       "      <td>0</td>\n",
       "      <td>0</td>\n",
       "      <td>0</td>\n",
       "      <td>0</td>\n",
       "      <td>0</td>\n",
       "      <td>0</td>\n",
       "      <td>0</td>\n",
       "      <td>0</td>\n",
       "      <td>0</td>\n",
       "      <td>0</td>\n",
       "      <td>0</td>\n",
       "      <td>1</td>\n",
       "      <td>0</td>\n",
       "      <td>0</td>\n",
       "      <td>0</td>\n",
       "      <td>0</td>\n",
       "      <td>0</td>\n",
       "      <td>0</td>\n",
       "      <td>1</td>\n",
       "      <td>0</td>\n",
       "      <td>0</td>\n",
       "      <td>0</td>\n",
       "      <td>0</td>\n",
       "      <td>0</td>\n",
       "      <td>1</td>\n",
       "      <td>0</td>\n",
       "      <td>0</td>\n",
       "      <td>0</td>\n",
       "      <td>0</td>\n",
       "    </tr>\n",
       "    <tr>\n",
       "      <th>155</th>\n",
       "      <td>156</td>\n",
       "      <td>0.455870</td>\n",
       "      <td>0.724521</td>\n",
       "      <td>-0.208449</td>\n",
       "      <td>12.989263</td>\n",
       "      <td>0.661081</td>\n",
       "      <td>2.321132</td>\n",
       "      <td>43</td>\n",
       "      <td>0.992126</td>\n",
       "      <td>0.775591</td>\n",
       "      <td>0.443469</td>\n",
       "      <td>0</td>\n",
       "      <td>0</td>\n",
       "      <td>0</td>\n",
       "      <td>0</td>\n",
       "      <td>0</td>\n",
       "      <td>0</td>\n",
       "      <td>0</td>\n",
       "      <td>0</td>\n",
       "      <td>0</td>\n",
       "      <td>0</td>\n",
       "      <td>0</td>\n",
       "      <td>0</td>\n",
       "      <td>0</td>\n",
       "      <td>0</td>\n",
       "      <td>0</td>\n",
       "      <td>0</td>\n",
       "      <td>0</td>\n",
       "      <td>0</td>\n",
       "      <td>0</td>\n",
       "      <td>0</td>\n",
       "      <td>0</td>\n",
       "      <td>0</td>\n",
       "      <td>0</td>\n",
       "      <td>0</td>\n",
       "      <td>0</td>\n",
       "      <td>0</td>\n",
       "      <td>1</td>\n",
       "      <td>0</td>\n",
       "      <td>0</td>\n",
       "      <td>0</td>\n",
       "      <td>0</td>\n",
       "      <td>0</td>\n",
       "      <td>0</td>\n",
       "      <td>1</td>\n",
       "      <td>0</td>\n",
       "      <td>0</td>\n",
       "      <td>0</td>\n",
       "      <td>0</td>\n",
       "      <td>1</td>\n",
       "      <td>0</td>\n",
       "      <td>0</td>\n",
       "      <td>0</td>\n",
       "      <td>0</td>\n",
       "      <td>0</td>\n",
       "    </tr>\n",
       "  </tbody>\n",
       "</table>\n",
       "</div>"
      ],
      "text/plain": [
       "      id    income    aspect  ...  product_e  product_f  product_g\n",
       "35    36 -0.187617 -0.494600  ...          0          0          0\n",
       "69    70  0.237540 -0.996591  ...          0          0          0\n",
       "101  102  0.893694  1.360973  ...          0          0          0\n",
       "134  135  0.133534 -1.408940  ...          0          0          0\n",
       "155  156  0.455870  0.724521  ...          0          0          0\n",
       "\n",
       "[5 rows x 55 columns]"
      ]
     },
     "execution_count": 6,
     "metadata": {
      "tags": []
     },
     "output_type": "execute_result"
    }
   ],
   "source": [
    "df.head()"
   ]
  },
  {
   "cell_type": "code",
   "execution_count": 0,
   "metadata": {
    "colab": {},
    "colab_type": "code",
    "id": "sC9RY2tkDQpn"
   },
   "outputs": [],
   "source": [
    "x_columns = df.columns.drop('age').drop('id')\n",
    "x = df[x_columns].values\n",
    "y = df['age'].values"
   ]
  },
  {
   "cell_type": "code",
   "execution_count": 15,
   "metadata": {
    "colab": {
     "base_uri": "https://localhost:8080/",
     "height": 187
    },
    "colab_type": "code",
    "id": "VJJemitVDQpq",
    "outputId": "512a17d5-ce24-4a2c-898d-fa4714b27136"
   },
   "outputs": [
    {
     "name": "stdout",
     "output_type": "stream",
     "text": [
      "Fold #1\n",
      "Fold score (RMSE): 0.536621344367143\n",
      "Fold #2\n",
      "Fold score (RMSE): 0.9061623428878205\n",
      "Fold #3\n",
      "Fold score (RMSE): 0.6020487421118796\n",
      "Fold #4\n",
      "Fold score (RMSE): 0.5377725083217846\n",
      "Fold #5\n",
      "Fold score (RMSE): 0.5707149905393886\n"
     ]
    }
   ],
   "source": [
    "kf = KFold(5, shuffle=True, random_state=42)\n",
    "\n",
    "oos_y = []\n",
    "oos_pred = []\n",
    "fold = 0\n",
    "for train, test in kf.split(x):\n",
    "    fold += 1\n",
    "    print(f\"Fold #{fold}\")\n",
    "    \n",
    "    x_train = x[train]\n",
    "    x_test = x[test]\n",
    "    y_train = y[train]\n",
    "    y_test = y[test]\n",
    "    \n",
    "    model = Sequential()\n",
    "    model.add(Dense(20, input_dim=x.shape[1], activation=\"relu\"))\n",
    "    model.add(Dense(10, activation=\"relu\"))\n",
    "    model.add(Dense(1))\n",
    "    model.compile(loss=\"mean_squared_error\", optimizer=\"adam\")\n",
    "    model.fit(x_train, y_train, validation_data=(x_test, y_test), verbose=0, epochs=500)\n",
    "    \n",
    "    pred = model.predict(x_test)\n",
    "    \n",
    "    oos_y.append(y_test)\n",
    "    oos_pred.append(pred)\n",
    "    \n",
    "    score = np.sqrt(metrics.mean_squared_error(pred, y_test))\n",
    "    print(f\"Fold score (RMSE): {score}\")\n",
    "    \n",
    "oos_y = np.concatenate(oos_y)\n",
    "oos_pred = np.concatenate(oos_pred)\n",
    "score = np.sqrt(metrics.mean_squared_error(oos_y, oos_pred))\n",
    "\n"
   ]
  },
  {
   "cell_type": "code",
   "execution_count": 17,
   "metadata": {
    "colab": {
     "base_uri": "https://localhost:8080/",
     "height": 34
    },
    "colab_type": "code",
    "id": "Dp1A0sr2IlLt",
    "outputId": "a48d8c3f-1c6d-4d52-9af3-017441dbd544"
   },
   "outputs": [
    {
     "name": "stdout",
     "output_type": "stream",
     "text": [
      "Final score 0.6459830056448728\n"
     ]
    }
   ],
   "source": [
    "print(f\"Final score {score}\")"
   ]
  },
  {
   "cell_type": "code",
   "execution_count": 0,
   "metadata": {
    "colab": {},
    "colab_type": "code",
    "id": "uEvTz42hDTD_"
   },
   "outputs": [],
   "source": [
    "oos_y = pd.DataFrame(oos_y)\n",
    "oos_pred = pd.DataFrame(oos_pred)\n",
    "oosDF = pd.concat( [df, oos_y, oos_pred],axis=1 )"
   ]
  },
  {
   "cell_type": "code",
   "execution_count": 0,
   "metadata": {
    "colab": {},
    "colab_type": "code",
    "id": "4QP4PSPdGuHi"
   },
   "outputs": [],
   "source": [
    "df = pd.read_csv(\n",
    "    \"https://data.heatonresearch.com/data/t81-558/jh-simple-dataset.csv\",\n",
    "    na_values=['NA','?'])\n",
    "# Generate dummies for job\n",
    "df = pd.concat([df,pd.get_dummies(df['job'],prefix=\"job\")],axis=1)\n",
    "df.drop('job', axis=1, inplace=True)\n",
    "\n",
    "# Generate dummies for area\n",
    "df = pd.concat([df,pd.get_dummies(df['area'],prefix=\"area\")],axis=1)\n",
    "df.drop('area', axis=1, inplace=True)\n"
   ]
  },
  {
   "cell_type": "code",
   "execution_count": 36,
   "metadata": {
    "colab": {
     "base_uri": "https://localhost:8080/",
     "height": 136
    },
    "colab_type": "code",
    "id": "8cexpyoJHFXh",
    "outputId": "e3563072-fb8a-410f-c5ca-7538870dd013"
   },
   "outputs": [
    {
     "name": "stderr",
     "output_type": "stream",
     "text": [
      "/usr/local/lib/python3.6/dist-packages/ipykernel_launcher.py:7: SettingWithCopyWarning: \n",
      "A value is trying to be set on a copy of a slice from a DataFrame.\n",
      "Try using .loc[row_indexer,col_indexer] = value instead\n",
      "\n",
      "See the caveats in the documentation: https://pandas.pydata.org/pandas-docs/stable/user_guide/indexing.html#returning-a-view-versus-a-copy\n",
      "  import sys\n"
     ]
    },
    {
     "data": {
      "text/plain": [
       "0.773531504009265"
      ]
     },
     "execution_count": 36,
     "metadata": {
      "tags": []
     },
     "output_type": "execute_result"
    }
   ],
   "source": [
    "nonna = df[df[\"income\"].notna()]\n",
    "isna = df[df[\"income\"].isnull()]\n",
    "nx = nonna.drop([\"income\", \"product\"], axis=1).values\n",
    "ny = nonna[\"income\"].values\n",
    "nx_train, nx_test, ny_train, ny_test = train_test_split(nx, ny, test_size=0.2)\n",
    "reg = LinearRegression().fit(nx_train, ny_train)\n",
    "isna[\"income\"] = reg.predict(isna.drop([\"income\", \"product\"], axis=1).values)\n",
    "df = pd.concat([isna, nonna], axis=0)\n",
    "reg.score(nx_test, ny_test)"
   ]
  },
  {
   "cell_type": "code",
   "execution_count": 0,
   "metadata": {
    "colab": {},
    "colab_type": "code",
    "id": "kkheeavGH8UD"
   },
   "outputs": [],
   "source": [
    "df['income'] = zscore(df['income'])\n",
    "df['aspect'] = zscore(df['aspect'])\n",
    "df['save_rate'] = zscore(df['save_rate'])\n",
    "df['subscriptions'] = zscore(df['subscriptions'])\n",
    "df[\"dist_unhealthy\"] = zscore(df[\"dist_unhealthy\"])\n",
    "\n",
    "x_col = df.columns.drop(\"product\").drop(\"id\")\n",
    "x = df[x_col].values\n",
    "\n",
    "dummies = pd.get_dummies(df['product']) # Classification\n",
    "products = dummies.columns\n",
    "y = dummies.values"
   ]
  },
  {
   "cell_type": "code",
   "execution_count": 40,
   "metadata": {
    "colab": {
     "base_uri": "https://localhost:8080/",
     "height": 204
    },
    "colab_type": "code",
    "id": "Wgl9a3LnIY3D",
    "outputId": "cd64f49f-2a5e-4167-dd97-535b9f91dc37"
   },
   "outputs": [
    {
     "name": "stdout",
     "output_type": "stream",
     "text": [
      "Fold #1\n",
      "Fold RMSE 0.8246211251235321\n",
      "Fold #2\n",
      "Fold RMSE 0.8381527307120105\n",
      "Fold #3\n",
      "Fold RMSE 0.8558621384311845\n",
      "Fold #4\n",
      "Fold RMSE 0.8351646544245033\n",
      "Fold #5\n",
      "Fold RMSE 0.8336666000266533\n",
      "RMSE 0.7015\n"
     ]
    }
   ],
   "source": [
    "kf = StratifiedKFold(5, shuffle=True, random_state=69)\n",
    "\n",
    "oos_y = []\n",
    "oos_pred = []\n",
    "fold = 0\n",
    "\n",
    "\n",
    "for train, test in kf.split(x, df[\"product\"]):\n",
    "  fold += 1\n",
    "  print(f\"Fold #{fold}\")\n",
    "\n",
    "  x_train = x[train]\n",
    "  x_test = x[test]\n",
    "  y_train = y[train]\n",
    "  y_test = y[test]\n",
    "\n",
    "  model = Sequential()\n",
    "  model.add(Dense(25, input_dim=x.shape[1], activation=\"relu\"))\n",
    "  model.add(Dense(10, activation=\"relu\"))\n",
    "  model.add(Dense(y.shape[1], activation=\"softmax\"))\n",
    "  model.compile(loss=\"categorical_crossentropy\", optimizer=\"adam\")\n",
    "  model.fit(x_train, y_train, validation_data=(x_test, y_test), verbose=0, epochs=500)\n",
    "\n",
    "  pred = model.predict(x_test)\n",
    "  pred_category = np.argmax(pred, axis=1)\n",
    "  y_category = np.argmax(y_test, axis=1)\n",
    "  score = metrics.accuracy_score(y_category, pred_category)\n",
    "  print(f\"Fold accuracy {score}\")\n",
    "\n",
    "  oos_y.append(y_category)\n",
    "  oos_pred.append(pred_category)\n",
    "\n",
    "oos_y = np.concatenate(oos_y)\n",
    "oos_pred = np.concatenate(oos_pred)\n",
    "\n",
    "score = metrics.accuracy_score(oos_y, oos_pred)\n",
    "print(f\"accuracy {score}\")"
   ]
  },
  {
   "cell_type": "code",
   "execution_count": 50,
   "metadata": {
    "colab": {
     "base_uri": "https://localhost:8080/",
     "height": 102
    },
    "colab_type": "code",
    "id": "eVDKZpECR4V2",
    "outputId": "42b1b8f5-b7b5-40b8-99ca-407f27dea03e"
   },
   "outputs": [
    {
     "name": "stderr",
     "output_type": "stream",
     "text": [
      "/usr/local/lib/python3.6/dist-packages/ipykernel_launcher.py:22: SettingWithCopyWarning: \n",
      "A value is trying to be set on a copy of a slice from a DataFrame.\n",
      "Try using .loc[row_indexer,col_indexer] = value instead\n",
      "\n",
      "See the caveats in the documentation: https://pandas.pydata.org/pandas-docs/stable/user_guide/indexing.html#returning-a-view-versus-a-copy\n"
     ]
    }
   ],
   "source": [
    "df = pd.read_csv(\n",
    "    \"https://data.heatonresearch.com/data/t81-558/jh-simple-dataset.csv\",\n",
    "    na_values=['NA','?'])\n",
    "# Generate dummies for job\n",
    "df = pd.concat([df,pd.get_dummies(df['job'],prefix=\"job\")],axis=1)\n",
    "df.drop('job', axis=1, inplace=True)\n",
    "\n",
    "# Generate dummies for area\n",
    "df = pd.concat([df,pd.get_dummies(df['area'],prefix=\"area\")],axis=1)\n",
    "df.drop('area', axis=1, inplace=True)\n",
    "\n",
    "# Generate dummies for product\n",
    "df = pd.concat([df,pd.get_dummies(df['product'],prefix=\"product\")],axis=1)\n",
    "df.drop('product', axis=1, inplace=True)\n",
    "\n",
    "nonna = df[df[\"income\"].notna()]\n",
    "isna = df[df[\"income\"].isnull()]\n",
    "nx = nonna.drop([\"income\", \"age\"], axis=1).values\n",
    "ny = nonna[\"income\"].values\n",
    "nx_train, nx_test, ny_train, ny_test = train_test_split(nx, ny, test_size=0.2)\n",
    "reg = LinearRegression().fit(nx_train, ny_train)\n",
    "isna[\"income\"] = reg.predict(isna.drop([\"income\", \"age\"], axis=1).values)\n",
    "df = pd.concat([isna, nonna], axis=0)\n",
    "reg.score(nx_test, ny_test)\n",
    "\n",
    "df['income'] = zscore(df['income'])\n",
    "df['aspect'] = zscore(df['aspect'])\n",
    "df['save_rate'] = zscore(df['save_rate'])\n",
    "df['subscriptions'] = zscore(df['subscriptions'])\n",
    "df[\"dist_unhealthy\"] = zscore(df[\"dist_unhealthy\"])"
   ]
  },
  {
   "cell_type": "code",
   "execution_count": 0,
   "metadata": {
    "colab": {},
    "colab_type": "code",
    "id": "VesDduoiTvRj"
   },
   "outputs": [],
   "source": [
    "x_columns = df.columns.drop('age').drop('id')\n",
    "x = df[x_columns].values\n",
    "y = df['age'].values"
   ]
  },
  {
   "cell_type": "code",
   "execution_count": 52,
   "metadata": {
    "colab": {
     "base_uri": "https://localhost:8080/",
     "height": 289
    },
    "colab_type": "code",
    "id": "V0K4xrgBT1Mt",
    "outputId": "807cf346-abf7-44e0-f281-23d54cbfaad5"
   },
   "outputs": [
    {
     "name": "stdout",
     "output_type": "stream",
     "text": [
      "Fold #1\n",
      "Fold RMSE: 0.9296196436310094\n",
      "Fold holdout RMSE: 1.0366690143975446\n",
      "Fold #2\n",
      "Fold RMSE: 0.530721087694666\n",
      "Fold holdout RMSE: 0.7741477278327994\n",
      "Fold #3\n",
      "Fold RMSE: 0.6344112708708834\n",
      "Fold holdout RMSE: 0.8648449022433842\n",
      "Fold #4\n",
      "Fold RMSE: 0.7618854103749648\n",
      "Fold holdout RMSE: 1.0052624038585476\n",
      "Fold #5\n",
      "Fold RMSE: 0.6486535599352393\n",
      "Fold holdout RMSE: 0.8142324028732599\n",
      "total RMSE: 0.7140806725735337\n"
     ]
    }
   ],
   "source": [
    "x_main, x_holdout, y_main, y_holdout = train_test_split(x, y, test_size=0.1)\n",
    "\n",
    "kf = KFold(5, shuffle=True, random_state=69)\n",
    "\n",
    "oos_y = []\n",
    "oos_pred = []\n",
    "fold = 0\n",
    "\n",
    "for train, test in kf.split(x_main):\n",
    "  fold += 1\n",
    "  print(f\"Fold #{fold}\")\n",
    "\n",
    "  x_train = x[train]\n",
    "  x_test = x[test]\n",
    "  y_train = y[train]\n",
    "  y_test = y[test]\n",
    "\n",
    "  model = Sequential()\n",
    "  model.add(Dense(25, input_dim=x.shape[1], activation=\"relu\"))\n",
    "  model.add(Dense(10, activation=\"relu\"))\n",
    "  model.add(Dense(1))\n",
    "  model.compile(loss=\"mean_squared_error\", optimizer=\"adam\")\n",
    "  model.fit(x_train, y_train, validation_data=(x_test, y_test), verbose=0, epochs=500)\n",
    "\n",
    "  pred = model.predict(x_test)\n",
    "  score = np.sqrt(metrics.mean_squared_error(y_test, pred))\n",
    "  print(f\"Fold RMSE: {score}\")\n",
    "\n",
    "  oos_y.append(y_test)\n",
    "  oos_pred.append(pred)\n",
    "\n",
    "  holdout_pred = model.predict(x_holdout)\n",
    "  score = np.sqrt(metrics.mean_squared_error(y_holdout, holdout_pred))\n",
    "  print(f\"Fold holdout RMSE: {score}\")\n",
    "\n",
    "\n",
    "oos_y = np.concatenate(oos_y)\n",
    "oos_pred = np.concatenate(oos_pred)\n",
    "\n",
    "score = np.sqrt(metrics.mean_squared_error(oos_y, oos_pred))\n",
    "print(f\"total RMSE: {score}\")\n",
    "\n"
   ]
  },
  {
   "cell_type": "code",
   "execution_count": 0,
   "metadata": {
    "colab": {},
    "colab_type": "code",
    "id": "Hl_DHIPNX3Wn"
   },
   "outputs": [],
   "source": [
    "  "
   ]
  }
 ],
 "metadata": {
  "accelerator": "GPU",
  "colab": {
   "collapsed_sections": [],
   "name": "5.2 K-Fold.ipynb",
   "provenance": []
  },
  "kernelspec": {
   "display_name": "Python 3",
   "language": "python",
   "name": "python3"
  },
  "language_info": {
   "codemirror_mode": {
    "name": "ipython",
    "version": 3
   },
   "file_extension": ".py",
   "mimetype": "text/x-python",
   "name": "python",
   "nbconvert_exporter": "python",
   "pygments_lexer": "ipython3",
   "version": "3.7.7"
  }
 },
 "nbformat": 4,
 "nbformat_minor": 1
}
