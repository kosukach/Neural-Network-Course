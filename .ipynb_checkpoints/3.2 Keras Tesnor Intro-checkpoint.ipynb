{
 "cells": [
  {
   "cell_type": "code",
   "execution_count": 1,
   "metadata": {
    "colab": {
     "base_uri": "https://localhost:8080/",
     "height": 204
    },
    "colab_type": "code",
    "id": "fr8dfAcIpUHQ",
    "outputId": "5feed1b9-5d08-4e75-a1bc-085ed5b910e2"
   },
   "outputs": [
    {
     "data": {
      "text/html": [
       "<div>\n",
       "<style scoped>\n",
       "    .dataframe tbody tr th:only-of-type {\n",
       "        vertical-align: middle;\n",
       "    }\n",
       "\n",
       "    .dataframe tbody tr th {\n",
       "        vertical-align: top;\n",
       "    }\n",
       "\n",
       "    .dataframe thead th {\n",
       "        text-align: right;\n",
       "    }\n",
       "</style>\n",
       "<table border=\"1\" class=\"dataframe\">\n",
       "  <thead>\n",
       "    <tr style=\"text-align: right;\">\n",
       "      <th></th>\n",
       "      <th>mpg</th>\n",
       "      <th>cylinders</th>\n",
       "      <th>displacement</th>\n",
       "      <th>horsepower</th>\n",
       "      <th>weight</th>\n",
       "      <th>acceleration</th>\n",
       "      <th>year</th>\n",
       "      <th>name</th>\n",
       "      <th>origin__1</th>\n",
       "      <th>origin__2</th>\n",
       "      <th>origin__3</th>\n",
       "    </tr>\n",
       "  </thead>\n",
       "  <tbody>\n",
       "    <tr>\n",
       "      <th>202</th>\n",
       "      <td>17.5</td>\n",
       "      <td>6</td>\n",
       "      <td>258.0</td>\n",
       "      <td>95.0</td>\n",
       "      <td>3193</td>\n",
       "      <td>17.8</td>\n",
       "      <td>76</td>\n",
       "      <td>amc pacer d/l</td>\n",
       "      <td>1</td>\n",
       "      <td>0</td>\n",
       "      <td>0</td>\n",
       "    </tr>\n",
       "    <tr>\n",
       "      <th>1</th>\n",
       "      <td>15.0</td>\n",
       "      <td>8</td>\n",
       "      <td>350.0</td>\n",
       "      <td>165.0</td>\n",
       "      <td>3693</td>\n",
       "      <td>11.5</td>\n",
       "      <td>70</td>\n",
       "      <td>buick skylark 320</td>\n",
       "      <td>1</td>\n",
       "      <td>0</td>\n",
       "      <td>0</td>\n",
       "    </tr>\n",
       "    <tr>\n",
       "      <th>16</th>\n",
       "      <td>18.0</td>\n",
       "      <td>6</td>\n",
       "      <td>199.0</td>\n",
       "      <td>97.0</td>\n",
       "      <td>2774</td>\n",
       "      <td>15.5</td>\n",
       "      <td>70</td>\n",
       "      <td>amc hornet</td>\n",
       "      <td>1</td>\n",
       "      <td>0</td>\n",
       "      <td>0</td>\n",
       "    </tr>\n",
       "    <tr>\n",
       "      <th>240</th>\n",
       "      <td>30.5</td>\n",
       "      <td>4</td>\n",
       "      <td>97.0</td>\n",
       "      <td>78.0</td>\n",
       "      <td>2190</td>\n",
       "      <td>14.1</td>\n",
       "      <td>77</td>\n",
       "      <td>volkswagen dasher</td>\n",
       "      <td>0</td>\n",
       "      <td>1</td>\n",
       "      <td>0</td>\n",
       "    </tr>\n",
       "    <tr>\n",
       "      <th>284</th>\n",
       "      <td>20.6</td>\n",
       "      <td>6</td>\n",
       "      <td>225.0</td>\n",
       "      <td>110.0</td>\n",
       "      <td>3360</td>\n",
       "      <td>16.6</td>\n",
       "      <td>79</td>\n",
       "      <td>dodge aspen 6</td>\n",
       "      <td>1</td>\n",
       "      <td>0</td>\n",
       "      <td>0</td>\n",
       "    </tr>\n",
       "  </tbody>\n",
       "</table>\n",
       "</div>"
      ],
      "text/plain": [
       "      mpg  cylinders  displacement  horsepower  weight  acceleration  year  \\\n",
       "202  17.5          6         258.0        95.0    3193          17.8    76   \n",
       "1    15.0          8         350.0       165.0    3693          11.5    70   \n",
       "16   18.0          6         199.0        97.0    2774          15.5    70   \n",
       "240  30.5          4          97.0        78.0    2190          14.1    77   \n",
       "284  20.6          6         225.0       110.0    3360          16.6    79   \n",
       "\n",
       "                  name  origin__1  origin__2  origin__3  \n",
       "202      amc pacer d/l          1          0          0  \n",
       "1    buick skylark 320          1          0          0  \n",
       "16          amc hornet          1          0          0  \n",
       "240  volkswagen dasher          0          1          0  \n",
       "284      dodge aspen 6          1          0          0  "
      ]
     },
     "execution_count": 1,
     "metadata": {},
     "output_type": "execute_result"
    }
   ],
   "source": [
    "from tensorflow.keras.models import Sequential\n",
    "from tensorflow.keras.layers import Dense, Activation\n",
    "\n",
    "import pandas as pd\n",
    "import io\n",
    "import os\n",
    "import requests\n",
    "import numpy as np\n",
    "from sklearn import metrics\n",
    "from sklearn.linear_model import LinearRegression\n",
    "from sklearn.model_selection import train_test_split\n",
    "from sklearn.preprocessing import StandardScaler\n",
    "from scipy.stats import zscore\n",
    "\n",
    "pd.options.mode.chained_assignment = None  # default='warn'\n",
    "\n",
    "\n",
    "\n",
    "\n",
    "df = pd.read_csv(\n",
    "    \"https://data.heatonresearch.com/data/t81-558/auto-mpg.csv\", \n",
    "    na_values=['NA', '?'])\n",
    "cars = df[\"name\"]\n",
    "nonna = df[df[\"horsepower\"].notna()]\n",
    "na = df[df[\"horsepower\"].isnull()]\n",
    "X = nonna[[\"cylinders\", \"displacement\", \"acceleration\"]]\n",
    "y = nonna[\"horsepower\"]\n",
    "reg = LinearRegression().fit(X, y)\n",
    "na[\"horsepower\"] = reg.predict(na[[\"cylinders\", \"displacement\", \"acceleration\"]])\n",
    "df = pd.concat([nonna, na], axis=0)\n",
    "df = df.reindex(np.random.permutation(df.index))\n",
    "or_dum = pd.get_dummies(df[\"origin\"], prefix=\"origin_\")\n",
    "df = pd.concat([df, or_dum], axis=1)\n",
    "df.drop(\"origin\", inplace=True, axis=1)\n",
    "df.head()"
   ]
  },
  {
   "cell_type": "code",
   "execution_count": 2,
   "metadata": {
    "colab": {},
    "colab_type": "code",
    "id": "v16ayjVI4G4l"
   },
   "outputs": [],
   "source": [
    "x = df[['cylinders', 'displacement', 'horsepower', 'weight',\n",
    "       'acceleration', 'year', 'origin__1', \"origin__2\", \"origin__3\"]].values\n",
    "y = df['mpg'].values "
   ]
  },
  {
   "cell_type": "code",
   "execution_count": 3,
   "metadata": {
    "colab": {
     "base_uri": "https://localhost:8080/",
     "height": 1000
    },
    "colab_type": "code",
    "id": "Orj48niz4KLq",
    "outputId": "72e92a26-163d-4304-ec4c-7057168e1d14"
   },
   "outputs": [
    {
     "ename": "NameError",
     "evalue": "name 'Sequential' is not defined",
     "output_type": "error",
     "traceback": [
      "\u001b[1;31m---------------------------------------------------------------------------\u001b[0m",
      "\u001b[1;31mNameError\u001b[0m                                 Traceback (most recent call last)",
      "\u001b[1;32m<ipython-input-3-5025a9a3430e>\u001b[0m in \u001b[0;36m<module>\u001b[1;34m\u001b[0m\n\u001b[1;32m----> 1\u001b[1;33m \u001b[0mmodel\u001b[0m \u001b[1;33m=\u001b[0m \u001b[0mSequential\u001b[0m\u001b[1;33m(\u001b[0m\u001b[1;33m)\u001b[0m\u001b[1;33m\u001b[0m\u001b[1;33m\u001b[0m\u001b[0m\n\u001b[0m\u001b[0;32m      2\u001b[0m \u001b[0mmodel\u001b[0m\u001b[1;33m.\u001b[0m\u001b[0madd\u001b[0m\u001b[1;33m(\u001b[0m\u001b[0mDense\u001b[0m\u001b[1;33m(\u001b[0m\u001b[1;36m25\u001b[0m\u001b[1;33m,\u001b[0m \u001b[0minput_dim\u001b[0m\u001b[1;33m=\u001b[0m\u001b[0mx\u001b[0m\u001b[1;33m.\u001b[0m\u001b[0mshape\u001b[0m\u001b[1;33m[\u001b[0m\u001b[1;36m1\u001b[0m\u001b[1;33m]\u001b[0m\u001b[1;33m,\u001b[0m \u001b[0mactivation\u001b[0m\u001b[1;33m=\u001b[0m\u001b[1;34m'relu'\u001b[0m\u001b[1;33m)\u001b[0m\u001b[1;33m)\u001b[0m \u001b[1;31m# Hidden 1\u001b[0m\u001b[1;33m\u001b[0m\u001b[1;33m\u001b[0m\u001b[0m\n\u001b[0;32m      3\u001b[0m \u001b[0mmodel\u001b[0m\u001b[1;33m.\u001b[0m\u001b[0madd\u001b[0m\u001b[1;33m(\u001b[0m\u001b[0mDense\u001b[0m\u001b[1;33m(\u001b[0m\u001b[1;36m10\u001b[0m\u001b[1;33m,\u001b[0m \u001b[0mactivation\u001b[0m\u001b[1;33m=\u001b[0m\u001b[1;34m'relu'\u001b[0m\u001b[1;33m)\u001b[0m\u001b[1;33m)\u001b[0m \u001b[1;31m# Hidden 2\u001b[0m\u001b[1;33m\u001b[0m\u001b[1;33m\u001b[0m\u001b[0m\n\u001b[0;32m      4\u001b[0m \u001b[0mmodel\u001b[0m\u001b[1;33m.\u001b[0m\u001b[0madd\u001b[0m\u001b[1;33m(\u001b[0m\u001b[0mDense\u001b[0m\u001b[1;33m(\u001b[0m\u001b[1;36m1\u001b[0m\u001b[1;33m)\u001b[0m\u001b[1;33m)\u001b[0m \u001b[1;31m# Output\u001b[0m\u001b[1;33m\u001b[0m\u001b[1;33m\u001b[0m\u001b[0m\n\u001b[0;32m      5\u001b[0m \u001b[0mmodel\u001b[0m\u001b[1;33m.\u001b[0m\u001b[0mcompile\u001b[0m\u001b[1;33m(\u001b[0m\u001b[0mloss\u001b[0m\u001b[1;33m=\u001b[0m\u001b[1;34m'mean_squared_error'\u001b[0m\u001b[1;33m,\u001b[0m \u001b[0moptimizer\u001b[0m\u001b[1;33m=\u001b[0m\u001b[1;34m'adam'\u001b[0m\u001b[1;33m)\u001b[0m\u001b[1;33m\u001b[0m\u001b[1;33m\u001b[0m\u001b[0m\n",
      "\u001b[1;31mNameError\u001b[0m: name 'Sequential' is not defined"
     ]
    }
   ],
   "source": [
    "model = Sequential()\n",
    "model.add(Dense(25, input_dim=x.shape[1], activation='relu')) # Hidden 1\n",
    "model.add(Dense(10, activation='relu')) # Hidden 2\n",
    "model.add(Dense(1)) # Output\n",
    "model.compile(loss='mean_squared_error', optimizer='adam')\n",
    "model.fit(x,y,verbose=2,epochs=200)"
   ]
  },
  {
   "cell_type": "code",
   "execution_count": 0,
   "metadata": {
    "colab": {
     "base_uri": "https://localhost:8080/",
     "height": 204
    },
    "colab_type": "code",
    "id": "XwCAuut890Gc",
    "outputId": "a16c3b02-2451-4307-8955-f46bf6efaa5a"
   },
   "outputs": [
    {
     "name": "stdout",
     "output_type": "stream",
     "text": [
      "Shape: (398, 1)\n",
      "[[29.78388 ]\n",
      " [15.960646]\n",
      " [10.26309 ]\n",
      " [17.36685 ]\n",
      " [19.876402]\n",
      " [26.665403]\n",
      " [26.811247]\n",
      " [25.912039]\n",
      " [14.67024 ]\n",
      " [30.315916]]\n"
     ]
    }
   ],
   "source": [
    "pred = model.predict(x)\n",
    "print(f\"Shape: {pred.shape}\")\n",
    "print(pred[0:10])"
   ]
  },
  {
   "cell_type": "code",
   "execution_count": 0,
   "metadata": {
    "colab": {
     "base_uri": "https://localhost:8080/",
     "height": 34
    },
    "colab_type": "code",
    "id": "k4ikuiQzIKb3",
    "outputId": "0b71468c-2a89-4f4a-e74b-639f15aa0a57"
   },
   "outputs": [
    {
     "name": "stdout",
     "output_type": "stream",
     "text": [
      "Final score (RMSE): 4.140381098095887\n"
     ]
    }
   ],
   "source": [
    "score = np.sqrt(metrics.mean_squared_error(pred,y))\n",
    "print(f\"Final score (RMSE): {score}\")"
   ]
  },
  {
   "cell_type": "code",
   "execution_count": 0,
   "metadata": {
    "colab": {
     "base_uri": "https://localhost:8080/",
     "height": 187
    },
    "colab_type": "code",
    "id": "uizQIlc4IRY_",
    "outputId": "1dbcf91c-a447-4a51-9dda-5016ece17212"
   },
   "outputs": [
    {
     "name": "stdout",
     "output_type": "stream",
     "text": [
      "1. Car name: chevrolet chevelle malibu, MPG: 19.8, predicted MPG: [24.391989]\n",
      "2. Car name: buick skylark 320, MPG: 26.0, predicted MPG: [29.18781]\n",
      "3. Car name: plymouth satellite, MPG: 14.0, predicted MPG: [14.881704]\n",
      "4. Car name: amc rebel sst, MPG: 34.5, predicted MPG: [29.126366]\n",
      "5. Car name: ford torino, MPG: 24.5, predicted MPG: [25.878511]\n",
      "6. Car name: ford galaxie 500, MPG: 26.0, predicted MPG: [30.020605]\n",
      "7. Car name: chevrolet impala, MPG: 12.0, predicted MPG: [11.597242]\n",
      "8. Car name: plymouth fury iii, MPG: 21.0, predicted MPG: [21.410141]\n",
      "9. Car name: pontiac catalina, MPG: 26.0, predicted MPG: [28.435133]\n",
      "10. Car name: amc ambassador dpl, MPG: 14.0, predicted MPG: [14.768454]\n"
     ]
    }
   ],
   "source": [
    "for i in range(10):\n",
    "    print(f\"{i+1}. Car name: {cars[i]}, MPG: {y[i]}, predicted MPG: {pred[i]}\")"
   ]
  },
  {
   "cell_type": "code",
   "execution_count": 0,
   "metadata": {
    "colab": {
     "base_uri": "https://localhost:8080/",
     "height": 1000
    },
    "colab_type": "code",
    "id": "1CefhrwDIxPz",
    "outputId": "c5dfcf33-f933-4fe4-a04c-aa8f5ccca6ca"
   },
   "outputs": [
    {
     "name": "stdout",
     "output_type": "stream",
     "text": [
      "Epoch 1/100\n",
      "5/5 - 0s - loss: 1.5324\n",
      "Epoch 2/100\n",
      "5/5 - 0s - loss: 1.2259\n",
      "Epoch 3/100\n",
      "5/5 - 0s - loss: 1.0221\n",
      "Epoch 4/100\n",
      "5/5 - 0s - loss: 0.8774\n",
      "Epoch 5/100\n",
      "5/5 - 0s - loss: 0.7756\n",
      "Epoch 6/100\n",
      "5/5 - 0s - loss: 0.7089\n",
      "Epoch 7/100\n",
      "5/5 - 0s - loss: 0.6581\n",
      "Epoch 8/100\n",
      "5/5 - 0s - loss: 0.6169\n",
      "Epoch 9/100\n",
      "5/5 - 0s - loss: 0.5817\n",
      "Epoch 10/100\n",
      "5/5 - 0s - loss: 0.5530\n",
      "Epoch 11/100\n",
      "5/5 - 0s - loss: 0.5213\n",
      "Epoch 12/100\n",
      "5/5 - 0s - loss: 0.4958\n",
      "Epoch 13/100\n",
      "5/5 - 0s - loss: 0.4756\n",
      "Epoch 14/100\n",
      "5/5 - 0s - loss: 0.4556\n",
      "Epoch 15/100\n",
      "5/5 - 0s - loss: 0.4339\n",
      "Epoch 16/100\n",
      "5/5 - 0s - loss: 0.4098\n",
      "Epoch 17/100\n",
      "5/5 - 0s - loss: 0.4095\n",
      "Epoch 18/100\n",
      "5/5 - 0s - loss: 0.3902\n",
      "Epoch 19/100\n",
      "5/5 - 0s - loss: 0.3755\n",
      "Epoch 20/100\n",
      "5/5 - 0s - loss: 0.3614\n",
      "Epoch 21/100\n",
      "5/5 - 0s - loss: 0.3547\n",
      "Epoch 22/100\n",
      "5/5 - 0s - loss: 0.3482\n",
      "Epoch 23/100\n",
      "5/5 - 0s - loss: 0.3348\n",
      "Epoch 24/100\n",
      "5/5 - 0s - loss: 0.3276\n",
      "Epoch 25/100\n",
      "5/5 - 0s - loss: 0.3113\n",
      "Epoch 26/100\n",
      "5/5 - 0s - loss: 0.3038\n",
      "Epoch 27/100\n",
      "5/5 - 0s - loss: 0.2982\n",
      "Epoch 28/100\n",
      "5/5 - 0s - loss: 0.2907\n",
      "Epoch 29/100\n",
      "5/5 - 0s - loss: 0.2841\n",
      "Epoch 30/100\n",
      "5/5 - 0s - loss: 0.2748\n",
      "Epoch 31/100\n",
      "5/5 - 0s - loss: 0.2692\n",
      "Epoch 32/100\n",
      "5/5 - 0s - loss: 0.2569\n",
      "Epoch 33/100\n",
      "5/5 - 0s - loss: 0.2552\n",
      "Epoch 34/100\n",
      "5/5 - 0s - loss: 0.2447\n",
      "Epoch 35/100\n",
      "5/5 - 0s - loss: 0.2393\n",
      "Epoch 36/100\n",
      "5/5 - 0s - loss: 0.2319\n",
      "Epoch 37/100\n",
      "5/5 - 0s - loss: 0.2293\n",
      "Epoch 38/100\n",
      "5/5 - 0s - loss: 0.2295\n",
      "Epoch 39/100\n",
      "5/5 - 0s - loss: 0.2264\n",
      "Epoch 40/100\n",
      "5/5 - 0s - loss: 0.2106\n",
      "Epoch 41/100\n",
      "5/5 - 0s - loss: 0.2051\n",
      "Epoch 42/100\n",
      "5/5 - 0s - loss: 0.2007\n",
      "Epoch 43/100\n",
      "5/5 - 0s - loss: 0.2032\n",
      "Epoch 44/100\n",
      "5/5 - 0s - loss: 0.1847\n",
      "Epoch 45/100\n",
      "5/5 - 0s - loss: 0.1861\n",
      "Epoch 46/100\n",
      "5/5 - 0s - loss: 0.1843\n",
      "Epoch 47/100\n",
      "5/5 - 0s - loss: 0.1798\n",
      "Epoch 48/100\n",
      "5/5 - 0s - loss: 0.1744\n",
      "Epoch 49/100\n",
      "5/5 - 0s - loss: 0.1717\n",
      "Epoch 50/100\n",
      "5/5 - 0s - loss: 0.1694\n",
      "Epoch 51/100\n",
      "5/5 - 0s - loss: 0.1633\n",
      "Epoch 52/100\n",
      "5/5 - 0s - loss: 0.1571\n",
      "Epoch 53/100\n",
      "5/5 - 0s - loss: 0.1634\n",
      "Epoch 54/100\n",
      "5/5 - 0s - loss: 0.1518\n",
      "Epoch 55/100\n",
      "5/5 - 0s - loss: 0.1511\n",
      "Epoch 56/100\n",
      "5/5 - 0s - loss: 0.1467\n",
      "Epoch 57/100\n",
      "5/5 - 0s - loss: 0.1475\n",
      "Epoch 58/100\n",
      "5/5 - 0s - loss: 0.1457\n",
      "Epoch 59/100\n",
      "5/5 - 0s - loss: 0.1354\n",
      "Epoch 60/100\n",
      "5/5 - 0s - loss: 0.1384\n",
      "Epoch 61/100\n",
      "5/5 - 0s - loss: 0.1314\n",
      "Epoch 62/100\n",
      "5/5 - 0s - loss: 0.1352\n",
      "Epoch 63/100\n",
      "5/5 - 0s - loss: 0.1284\n",
      "Epoch 64/100\n",
      "5/5 - 0s - loss: 0.1290\n",
      "Epoch 65/100\n",
      "5/5 - 0s - loss: 0.1302\n",
      "Epoch 66/100\n",
      "5/5 - 0s - loss: 0.1320\n",
      "Epoch 67/100\n",
      "5/5 - 0s - loss: 0.1305\n",
      "Epoch 68/100\n",
      "5/5 - 0s - loss: 0.1265\n",
      "Epoch 69/100\n",
      "5/5 - 0s - loss: 0.1187\n",
      "Epoch 70/100\n",
      "5/5 - 0s - loss: 0.1153\n",
      "Epoch 71/100\n",
      "5/5 - 0s - loss: 0.1195\n",
      "Epoch 72/100\n",
      "5/5 - 0s - loss: 0.1110\n",
      "Epoch 73/100\n",
      "5/5 - 0s - loss: 0.1173\n",
      "Epoch 74/100\n",
      "5/5 - 0s - loss: 0.1107\n",
      "Epoch 75/100\n",
      "5/5 - 0s - loss: 0.1095\n",
      "Epoch 76/100\n",
      "5/5 - 0s - loss: 0.1091\n",
      "Epoch 77/100\n",
      "5/5 - 0s - loss: 0.1071\n",
      "Epoch 78/100\n",
      "5/5 - 0s - loss: 0.1030\n",
      "Epoch 79/100\n",
      "5/5 - 0s - loss: 0.1047\n",
      "Epoch 80/100\n",
      "5/5 - 0s - loss: 0.1044\n",
      "Epoch 81/100\n",
      "5/5 - 0s - loss: 0.1051\n",
      "Epoch 82/100\n",
      "5/5 - 0s - loss: 0.0995\n",
      "Epoch 83/100\n",
      "5/5 - 0s - loss: 0.0990\n",
      "Epoch 84/100\n",
      "5/5 - 0s - loss: 0.0998\n",
      "Epoch 85/100\n",
      "5/5 - 0s - loss: 0.1015\n",
      "Epoch 86/100\n",
      "5/5 - 0s - loss: 0.0944\n",
      "Epoch 87/100\n",
      "5/5 - 0s - loss: 0.0907\n",
      "Epoch 88/100\n",
      "5/5 - 0s - loss: 0.1026\n",
      "Epoch 89/100\n",
      "5/5 - 0s - loss: 0.0914\n",
      "Epoch 90/100\n",
      "5/5 - 0s - loss: 0.0940\n",
      "Epoch 91/100\n",
      "5/5 - 0s - loss: 0.0890\n",
      "Epoch 92/100\n",
      "5/5 - 0s - loss: 0.0913\n",
      "Epoch 93/100\n",
      "5/5 - 0s - loss: 0.0894\n",
      "Epoch 94/100\n",
      "5/5 - 0s - loss: 0.0887\n",
      "Epoch 95/100\n",
      "5/5 - 0s - loss: 0.0885\n",
      "Epoch 96/100\n",
      "5/5 - 0s - loss: 0.0867\n",
      "Epoch 97/100\n",
      "5/5 - 0s - loss: 0.0849\n",
      "Epoch 98/100\n",
      "5/5 - 0s - loss: 0.0866\n",
      "Epoch 99/100\n",
      "5/5 - 0s - loss: 0.0846\n",
      "Epoch 100/100\n",
      "5/5 - 0s - loss: 0.0847\n"
     ]
    },
    {
     "data": {
      "text/plain": [
       "<tensorflow.python.keras.callbacks.History at 0x7fe76396ca58>"
      ]
     },
     "execution_count": 40,
     "metadata": {
      "tags": []
     },
     "output_type": "execute_result"
    }
   ],
   "source": [
    "import pandas as pd\n",
    "import io\n",
    "import requests\n",
    "import numpy as np\n",
    "from sklearn import metrics\n",
    "from tensorflow.keras.models import Sequential\n",
    "from tensorflow.keras.layers import Dense, Activation\n",
    "from tensorflow.keras.callbacks import EarlyStopping\n",
    "\n",
    "df = pd.read_csv(\n",
    "    \"https://data.heatonresearch.com/data/t81-558/iris.csv\", \n",
    "    na_values=['NA', '?'])\n",
    "\n",
    "# Convert to numpy - Classification\n",
    "x = df[['sepal_l', 'sepal_w', 'petal_l', 'petal_w']].values\n",
    "dummies = pd.get_dummies(df['species']) # Classification\n",
    "species = dummies.columns\n",
    "y = dummies.values\n",
    "\n",
    "\n",
    "# Build neural network\n",
    "model = Sequential()\n",
    "model.add(Dense(50, input_dim=x.shape[1], activation='relu')) # Hidden 1\n",
    "model.add(Dense(25, activation='relu')) # Hidden 2\n",
    "model.add(Dense(y.shape[1],activation='softmax')) # Output\n",
    "\n",
    "model.compile(loss='categorical_crossentropy', optimizer='adam')\n",
    "model.fit(x,y,verbose=2,epochs=100)"
   ]
  },
  {
   "cell_type": "code",
   "execution_count": 0,
   "metadata": {
    "colab": {
     "base_uri": "https://localhost:8080/",
     "height": 204
    },
    "colab_type": "code",
    "id": "4_wrij9OKoaL",
    "outputId": "5450de92-3fa6-4074-bc2e-c6f22a7da42a"
   },
   "outputs": [
    {
     "name": "stdout",
     "output_type": "stream",
     "text": [
      "Shape: (150, 3)\n",
      "[[9.99815524e-01 1.84525212e-04 1.85941218e-08]\n",
      " [9.99294281e-01 7.05586688e-04 1.28294701e-07]\n",
      " [9.99627709e-01 3.72200768e-04 7.34074206e-08]\n",
      " [9.98987734e-01 1.01204624e-03 2.92811052e-07]\n",
      " [9.99840975e-01 1.58977971e-04 1.74473627e-08]\n",
      " [9.99765694e-01 2.34254156e-04 1.96927932e-08]\n",
      " [9.99562323e-01 4.37569543e-04 1.08409232e-07]\n",
      " [9.99643683e-01 3.56295204e-04 4.81689817e-08]\n",
      " [9.98640835e-01 1.35851337e-03 5.41718464e-07]\n",
      " [9.99323368e-01 6.76511321e-04 1.13288856e-07]]\n"
     ]
    }
   ],
   "source": [
    "pred = model.predict(x)\n",
    "print(f\"Shape: {pred.shape}\")\n",
    "print(pred[0:10])"
   ]
  },
  {
   "cell_type": "code",
   "execution_count": 0,
   "metadata": {
    "colab": {
     "base_uri": "https://localhost:8080/",
     "height": 204
    },
    "colab_type": "code",
    "id": "LKwFL5HzKukX",
    "outputId": "cfdbeaa9-e89e-4dbc-a1f6-df53f3cf4de8"
   },
   "outputs": [
    {
     "name": "stdout",
     "output_type": "stream",
     "text": [
      "Shape: (150, 3)\n",
      "[[0.9998155  0.00018453 0.00000002]\n",
      " [0.9992943  0.00070559 0.00000013]\n",
      " [0.9996277  0.0003722  0.00000007]\n",
      " [0.99898773 0.00101205 0.00000029]\n",
      " [0.999841   0.00015898 0.00000002]\n",
      " [0.9997657  0.00023425 0.00000002]\n",
      " [0.9995623  0.00043757 0.00000011]\n",
      " [0.9996437  0.0003563  0.00000005]\n",
      " [0.99864084 0.00135851 0.00000054]\n",
      " [0.99932337 0.00067651 0.00000011]]\n"
     ]
    }
   ],
   "source": [
    "np.set_printoptions(suppress=True)\n",
    "print(f\"Shape: {pred.shape}\")\n",
    "print(pred[0:10])"
   ]
  },
  {
   "cell_type": "code",
   "execution_count": 0,
   "metadata": {
    "colab": {
     "base_uri": "https://localhost:8080/",
     "height": 187
    },
    "colab_type": "code",
    "id": "OjRggw4bK--p",
    "outputId": "56fe1e4a-9da1-4064-bb16-0f09c320b3fa"
   },
   "outputs": [
    {
     "name": "stdout",
     "output_type": "stream",
     "text": [
      "[[1 0 0]\n",
      " [1 0 0]\n",
      " [1 0 0]\n",
      " [1 0 0]\n",
      " [1 0 0]\n",
      " [1 0 0]\n",
      " [1 0 0]\n",
      " [1 0 0]\n",
      " [1 0 0]\n",
      " [1 0 0]]\n"
     ]
    }
   ],
   "source": [
    "print(y[0:10])"
   ]
  },
  {
   "cell_type": "code",
   "execution_count": 0,
   "metadata": {
    "colab": {
     "base_uri": "https://localhost:8080/",
     "height": 187
    },
    "colab_type": "code",
    "id": "J5ZjJjvZLC_0",
    "outputId": "2bf4db8a-8b3f-40cb-e93d-1f5e049ee567"
   },
   "outputs": [
    {
     "name": "stdout",
     "output_type": "stream",
     "text": [
      "Predictions: [0 0 0 0 0 0 0 0 0 0 0 0 0 0 0 0 0 0 0 0 0 0 0 0 0 0 0 0 0 0 0 0 0 0 0 0 0\n",
      " 0 0 0 0 0 0 0 0 0 0 0 0 0 1 1 1 1 1 1 1 1 1 1 1 1 1 1 1 1 1 1 1 1 2 1 2 1\n",
      " 1 1 1 1 1 1 1 1 1 2 1 1 1 1 1 1 1 1 1 1 1 1 1 1 1 1 2 2 2 2 2 2 2 2 2 2 2\n",
      " 2 2 2 2 2 2 2 2 2 2 2 2 2 2 2 2 2 2 2 2 2 2 2 2 2 2 2 2 2 2 2 2 2 2 2 2 2\n",
      " 2 2]\n",
      "Expected: [0 0 0 0 0 0 0 0 0 0 0 0 0 0 0 0 0 0 0 0 0 0 0 0 0 0 0 0 0 0 0 0 0 0 0 0 0\n",
      " 0 0 0 0 0 0 0 0 0 0 0 0 0 1 1 1 1 1 1 1 1 1 1 1 1 1 1 1 1 1 1 1 1 1 1 1 1\n",
      " 1 1 1 1 1 1 1 1 1 1 1 1 1 1 1 1 1 1 1 1 1 1 1 1 1 1 2 2 2 2 2 2 2 2 2 2 2\n",
      " 2 2 2 2 2 2 2 2 2 2 2 2 2 2 2 2 2 2 2 2 2 2 2 2 2 2 2 2 2 2 2 2 2 2 2 2 2\n",
      " 2 2]\n"
     ]
    }
   ],
   "source": [
    "predict_classes = np.argmax(pred,axis=1)\n",
    "expected_classes = np.argmax(y,axis=1)\n",
    "print(f\"Predictions: {predict_classes}\")\n",
    "print(f\"Expected: {expected_classes}\")"
   ]
  },
  {
   "cell_type": "code",
   "execution_count": 0,
   "metadata": {
    "colab": {
     "base_uri": "https://localhost:8080/",
     "height": 85
    },
    "colab_type": "code",
    "id": "uWJ3VcXKLTbj",
    "outputId": "83ea2fb6-f71b-4f7c-b483-3cb727a56306"
   },
   "outputs": [
    {
     "name": "stdout",
     "output_type": "stream",
     "text": [
      "Index(['Iris-setosa', 'Iris-setosa', 'Iris-setosa', 'Iris-setosa',\n",
      "       'Iris-setosa', 'Iris-setosa', 'Iris-setosa', 'Iris-setosa',\n",
      "       'Iris-setosa'],\n",
      "      dtype='object')\n"
     ]
    }
   ],
   "source": [
    "print(species[predict_classes[1:10]])"
   ]
  },
  {
   "cell_type": "code",
   "execution_count": 0,
   "metadata": {
    "colab": {
     "base_uri": "https://localhost:8080/",
     "height": 34
    },
    "colab_type": "code",
    "id": "IAz4VYb8LXYN",
    "outputId": "372a7173-f7ca-4d41-ede3-5ecb214bd6a1"
   },
   "outputs": [
    {
     "name": "stdout",
     "output_type": "stream",
     "text": [
      "Accuracy: 0.98\n"
     ]
    }
   ],
   "source": [
    "from sklearn.metrics import accuracy_score\n",
    "# Accuracy might be a more easily understood error metric.  It is essentially a test score.  For all of the iris predictions,\n",
    "# what percent were correct?  The downside is it does not consider how confident the neural network was in each prediction.\n",
    "correct = accuracy_score(expected_classes,predict_classes)\n",
    "print(f\"Accuracy: {correct}\")"
   ]
  },
  {
   "cell_type": "code",
   "execution_count": 0,
   "metadata": {
    "colab": {
     "base_uri": "https://localhost:8080/",
     "height": 51
    },
    "colab_type": "code",
    "id": "Nk4Qf-nWLj5x",
    "outputId": "089e5cbd-d52c-403b-c3b0-5f8bd78c177e"
   },
   "outputs": [
    {
     "name": "stdout",
     "output_type": "stream",
     "text": [
      "[[0.00214385 0.35167828 0.6461779 ]]\n",
      "Predict that [[5. 3. 4. 2.]] is: Iris-virginica\n"
     ]
    }
   ],
   "source": [
    "# ad hoc prediction\n",
    "sample_flower = np.array( [[5.0,3.0,4.0,2.0]], dtype=float)\n",
    "pred = model.predict(sample_flower)\n",
    "print(pred)\n",
    "pred = np.argmax(pred)\n",
    "print(f\"Predict that {sample_flower} is: {species[pred]}\")\n",
    "\n"
   ]
  },
  {
   "cell_type": "code",
   "execution_count": 0,
   "metadata": {
    "colab": {},
    "colab_type": "code",
    "id": "-Rs5psj_L70i"
   },
   "outputs": [],
   "source": []
  }
 ],
 "metadata": {
  "accelerator": "GPU",
  "colab": {
   "collapsed_sections": [],
   "name": "3.2 Keras Tesnor Intro.ipynb",
   "provenance": []
  },
  "kernelspec": {
   "display_name": "Python 3",
   "language": "python",
   "name": "python3"
  },
  "language_info": {
   "codemirror_mode": {
    "name": "ipython",
    "version": 3
   },
   "file_extension": ".py",
   "mimetype": "text/x-python",
   "name": "python",
   "nbconvert_exporter": "python",
   "pygments_lexer": "ipython3",
   "version": "3.7.7"
  }
 },
 "nbformat": 4,
 "nbformat_minor": 1
}
