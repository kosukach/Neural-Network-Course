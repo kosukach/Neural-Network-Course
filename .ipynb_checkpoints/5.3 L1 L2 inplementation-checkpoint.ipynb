{
 "cells": [
  {
   "cell_type": "code",
   "execution_count": 0,
   "metadata": {
    "colab": {},
    "colab_type": "code",
    "id": "HA1sKB55khiD"
   },
   "outputs": [],
   "source": [
    "import pandas as pd\n",
    "import numpy as np\n",
    "from sklearn.linear_model import LinearRegression\n",
    "from sklearn.model_selection import KFold, train_test_split\n",
    "from sklearn import metrics\n",
    "from tensorflow.keras.models import Sequential\n",
    "from tensorflow.keras.layers import Dense\n",
    "from tensorflow.keras import regularizers \n"
   ]
  },
  {
   "cell_type": "code",
   "execution_count": 3,
   "metadata": {
    "colab": {
     "base_uri": "https://localhost:8080/",
     "height": 119
    },
    "colab_type": "code",
    "id": "0Dr9LX4bleqy",
    "outputId": "6cf15c40-e0da-4e03-e076-fdbe371a748e"
   },
   "outputs": [
    {
     "name": "stderr",
     "output_type": "stream",
     "text": [
      "/usr/local/lib/python3.6/dist-packages/ipykernel_launcher.py:21: SettingWithCopyWarning: \n",
      "A value is trying to be set on a copy of a slice from a DataFrame.\n",
      "Try using .loc[row_indexer,col_indexer] = value instead\n",
      "\n",
      "See the caveats in the documentation: https://pandas.pydata.org/pandas-docs/stable/user_guide/indexing.html#returning-a-view-versus-a-copy\n"
     ]
    },
    {
     "data": {
      "text/plain": [
       "0.7881944431091034"
      ]
     },
     "execution_count": 3,
     "metadata": {
      "tags": []
     },
     "output_type": "execute_result"
    }
   ],
   "source": [
    "df = pd.read_csv(\n",
    "    \"https://data.heatonresearch.com/data/t81-558/jh-simple-dataset.csv\",\n",
    "    na_values=['NA','?'])\n",
    "\n",
    "df.drop(\"id\", inplace=True, axis=1)\n",
    "\n",
    "# Generate dummies for job\n",
    "df = pd.concat([df,pd.get_dummies(df['job'],prefix=\"job\")],axis=1)\n",
    "df.drop('job', axis=1, inplace=True)\n",
    "\n",
    "# Generate dummies for area\n",
    "df = pd.concat([df,pd.get_dummies(df['area'],prefix=\"area\")],axis=1)\n",
    "df.drop('area', axis=1, inplace=True)\n",
    "\n",
    "nonna = df[df[\"income\"].notna()]\n",
    "isna = df[df[\"income\"].isnull()]\n",
    "nx = nonna.drop([\"income\", \"product\"], axis=1).values\n",
    "ny = nonna[\"income\"].values\n",
    "nx_train, nx_test, ny_train, ny_test = train_test_split(nx, ny, test_size=0.2)\n",
    "reg = LinearRegression().fit(nx_train, ny_train)\n",
    "isna[\"income\"] = reg.predict(isna.drop([\"income\", \"product\"], axis=1).values)\n",
    "df = pd.concat([isna, nonna], axis=0)\n",
    "reg.score(nx_test, ny_test)"
   ]
  },
  {
   "cell_type": "code",
   "execution_count": 0,
   "metadata": {
    "colab": {},
    "colab_type": "code",
    "id": "Ia2MML4Tl-V3"
   },
   "outputs": [],
   "source": [
    "x_columns = df.columns.drop('product')\n",
    "x = df[x_columns].values\n",
    "dummies = pd.get_dummies(df['product']) # Classification\n",
    "products = dummies.columns\n",
    "y = dummies.values"
   ]
  },
  {
   "cell_type": "code",
   "execution_count": 8,
   "metadata": {
    "colab": {
     "base_uri": "https://localhost:8080/",
     "height": 204
    },
    "colab_type": "code",
    "id": "oZCwMEaQmlt3",
    "outputId": "e2fced40-00f5-490a-ce7f-8fb40f40fab8"
   },
   "outputs": [
    {
     "name": "stdout",
     "output_type": "stream",
     "text": [
      "Fold #1\n",
      "Fold accuracy: 0.5925\n",
      "Fold #2\n",
      "Fold accuracy: 0.6975\n",
      "Fold #3\n",
      "Fold accuracy: 0.685\n",
      "Fold #4\n",
      "Fold accuracy: 0.655\n",
      "Fold #5\n",
      "Fold accuracy: 0.54\n",
      "Final accuracy: 0.634\n"
     ]
    }
   ],
   "source": [
    "kf = KFold(5, shuffle=True, random_state=69)\n",
    "\n",
    "oos_y = []\n",
    "oos_pred = []\n",
    "fold = 0\n",
    "\n",
    "\n",
    "for train, test in kf.split(x):\n",
    "  fold += 1\n",
    "  print(f\"Fold #{fold}\")\n",
    "\n",
    "  x_train = x[train]\n",
    "  x_test = x[test]\n",
    "  y_train = y[train]\n",
    "  y_test = y[test]\n",
    "\n",
    "  model = Sequential()\n",
    "  model.add(Dense(50, input_dim=x.shape[1], activation=\"relu\",\n",
    "                  activity_regularizer=regularizers.l1(1e-4)))\n",
    "  model.add(Dense(25, activation=\"relu\",\n",
    "                  activity_regularizer=regularizers.l1(1e-4)))\n",
    "  model.add(Dense(y.shape[1], activation=\"softmax\"))\n",
    "  model.compile(loss=\"categorical_crossentropy\", optimizer=\"adam\")\n",
    "  model.fit(x_train, y_train, validation_data=(x_test, y_test), verbose=0, epochs=500)\n",
    "\n",
    "  pred = model.predict(x_test)\n",
    "  pred = np.argmax(pred, axis=1)\n",
    "  y_compare = np.argmax(y_test, axis=1)\n",
    "\n",
    "  score = metrics.accuracy_score(y_compare, pred)\n",
    "  print(f\"Fold accuracy: {score}\")\n",
    "\n",
    "  oos_y.append(y_compare)\n",
    "  oos_pred.append(pred)\n",
    "\n",
    "oos_y = np.concatenate(oos_y)\n",
    "oos_pred = np.concatenate(oos_pred)\n",
    "score = metrics.accuracy_score(oos_y, oos_pred)\n",
    "\n",
    "print(f\"Final accuracy: {score}\")\n"
   ]
  },
  {
   "cell_type": "code",
   "execution_count": 0,
   "metadata": {
    "colab": {},
    "colab_type": "code",
    "id": "9LW17aPwmpMT"
   },
   "outputs": [],
   "source": []
  }
 ],
 "metadata": {
  "accelerator": "GPU",
  "colab": {
   "name": "5.3.ipynb",
   "provenance": []
  },
  "kernelspec": {
   "display_name": "Python 3",
   "language": "python",
   "name": "python3"
  },
  "language_info": {
   "codemirror_mode": {
    "name": "ipython",
    "version": 3
   },
   "file_extension": ".py",
   "mimetype": "text/x-python",
   "name": "python",
   "nbconvert_exporter": "python",
   "pygments_lexer": "ipython3",
   "version": "3.7.7"
  }
 },
 "nbformat": 4,
 "nbformat_minor": 1
}
