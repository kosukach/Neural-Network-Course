{
 "cells": [
  {
   "cell_type": "code",
   "execution_count": 44,
   "metadata": {},
   "outputs": [
    {
     "data": {
      "text/html": [
       "<div>\n",
       "<style scoped>\n",
       "    .dataframe tbody tr th:only-of-type {\n",
       "        vertical-align: middle;\n",
       "    }\n",
       "\n",
       "    .dataframe tbody tr th {\n",
       "        vertical-align: top;\n",
       "    }\n",
       "\n",
       "    .dataframe thead th {\n",
       "        text-align: right;\n",
       "    }\n",
       "</style>\n",
       "<table border=\"1\" class=\"dataframe\">\n",
       "  <thead>\n",
       "    <tr style=\"text-align: right;\">\n",
       "      <th></th>\n",
       "      <th>diagnosis</th>\n",
       "      <th>mean_radius</th>\n",
       "      <th>mean_texture</th>\n",
       "      <th>mean_perimeter</th>\n",
       "      <th>mean_area</th>\n",
       "      <th>mean_smoothness</th>\n",
       "      <th>mean_compactness</th>\n",
       "      <th>mean_concavity</th>\n",
       "      <th>mean_concave_points</th>\n",
       "      <th>mean_symmetry</th>\n",
       "      <th>...</th>\n",
       "      <th>worst_radius</th>\n",
       "      <th>worst_texture</th>\n",
       "      <th>worst_perimeter</th>\n",
       "      <th>worst_area</th>\n",
       "      <th>worst_smoothness</th>\n",
       "      <th>worst_compactness</th>\n",
       "      <th>worst_concavity</th>\n",
       "      <th>worst_concave_points</th>\n",
       "      <th>worst_symmetry</th>\n",
       "      <th>worst_fractal_dimension</th>\n",
       "    </tr>\n",
       "  </thead>\n",
       "  <tbody>\n",
       "    <tr>\n",
       "      <th>0</th>\n",
       "      <td>M</td>\n",
       "      <td>1.097064</td>\n",
       "      <td>-2.073335</td>\n",
       "      <td>1.269934</td>\n",
       "      <td>0.984375</td>\n",
       "      <td>1.568466</td>\n",
       "      <td>3.283515</td>\n",
       "      <td>2.652874</td>\n",
       "      <td>2.532475</td>\n",
       "      <td>2.217515</td>\n",
       "      <td>...</td>\n",
       "      <td>1.886690</td>\n",
       "      <td>-1.359293</td>\n",
       "      <td>2.303601</td>\n",
       "      <td>2.001237</td>\n",
       "      <td>1.307686</td>\n",
       "      <td>2.616665</td>\n",
       "      <td>2.109526</td>\n",
       "      <td>2.296076</td>\n",
       "      <td>2.750622</td>\n",
       "      <td>1.937015</td>\n",
       "    </tr>\n",
       "    <tr>\n",
       "      <th>1</th>\n",
       "      <td>M</td>\n",
       "      <td>1.829821</td>\n",
       "      <td>-0.353632</td>\n",
       "      <td>1.685955</td>\n",
       "      <td>1.908708</td>\n",
       "      <td>-0.826962</td>\n",
       "      <td>-0.487072</td>\n",
       "      <td>-0.023846</td>\n",
       "      <td>0.548144</td>\n",
       "      <td>0.001392</td>\n",
       "      <td>...</td>\n",
       "      <td>1.805927</td>\n",
       "      <td>-0.369203</td>\n",
       "      <td>1.535126</td>\n",
       "      <td>1.890489</td>\n",
       "      <td>-0.375612</td>\n",
       "      <td>-0.430444</td>\n",
       "      <td>-0.146749</td>\n",
       "      <td>1.087084</td>\n",
       "      <td>-0.243890</td>\n",
       "      <td>0.281190</td>\n",
       "    </tr>\n",
       "    <tr>\n",
       "      <th>2</th>\n",
       "      <td>M</td>\n",
       "      <td>1.579888</td>\n",
       "      <td>0.456187</td>\n",
       "      <td>1.566503</td>\n",
       "      <td>1.558884</td>\n",
       "      <td>0.942210</td>\n",
       "      <td>1.052926</td>\n",
       "      <td>1.363478</td>\n",
       "      <td>2.037231</td>\n",
       "      <td>0.939685</td>\n",
       "      <td>...</td>\n",
       "      <td>1.511870</td>\n",
       "      <td>-0.023974</td>\n",
       "      <td>1.347475</td>\n",
       "      <td>1.456285</td>\n",
       "      <td>0.527407</td>\n",
       "      <td>1.082932</td>\n",
       "      <td>0.854974</td>\n",
       "      <td>1.955000</td>\n",
       "      <td>1.152255</td>\n",
       "      <td>0.201391</td>\n",
       "    </tr>\n",
       "    <tr>\n",
       "      <th>3</th>\n",
       "      <td>M</td>\n",
       "      <td>-0.768909</td>\n",
       "      <td>0.253732</td>\n",
       "      <td>-0.592687</td>\n",
       "      <td>-0.764464</td>\n",
       "      <td>3.283553</td>\n",
       "      <td>3.402909</td>\n",
       "      <td>1.915897</td>\n",
       "      <td>1.451707</td>\n",
       "      <td>2.867383</td>\n",
       "      <td>...</td>\n",
       "      <td>-0.281464</td>\n",
       "      <td>0.133984</td>\n",
       "      <td>-0.249939</td>\n",
       "      <td>-0.550021</td>\n",
       "      <td>3.394275</td>\n",
       "      <td>3.893397</td>\n",
       "      <td>1.989588</td>\n",
       "      <td>2.175786</td>\n",
       "      <td>6.046041</td>\n",
       "      <td>4.935010</td>\n",
       "    </tr>\n",
       "    <tr>\n",
       "      <th>4</th>\n",
       "      <td>M</td>\n",
       "      <td>1.750297</td>\n",
       "      <td>-1.151816</td>\n",
       "      <td>1.776573</td>\n",
       "      <td>1.826229</td>\n",
       "      <td>0.280372</td>\n",
       "      <td>0.539340</td>\n",
       "      <td>1.371011</td>\n",
       "      <td>1.428493</td>\n",
       "      <td>-0.009560</td>\n",
       "      <td>...</td>\n",
       "      <td>1.298575</td>\n",
       "      <td>-1.466770</td>\n",
       "      <td>1.338539</td>\n",
       "      <td>1.220724</td>\n",
       "      <td>0.220556</td>\n",
       "      <td>-0.313395</td>\n",
       "      <td>0.613179</td>\n",
       "      <td>0.729259</td>\n",
       "      <td>-0.868353</td>\n",
       "      <td>-0.397100</td>\n",
       "    </tr>\n",
       "  </tbody>\n",
       "</table>\n",
       "<p>5 rows × 31 columns</p>\n",
       "</div>"
      ],
      "text/plain": [
       "  diagnosis  mean_radius  mean_texture  mean_perimeter  mean_area  \\\n",
       "0         M     1.097064     -2.073335        1.269934   0.984375   \n",
       "1         M     1.829821     -0.353632        1.685955   1.908708   \n",
       "2         M     1.579888      0.456187        1.566503   1.558884   \n",
       "3         M    -0.768909      0.253732       -0.592687  -0.764464   \n",
       "4         M     1.750297     -1.151816        1.776573   1.826229   \n",
       "\n",
       "   mean_smoothness  mean_compactness  mean_concavity  mean_concave_points  \\\n",
       "0         1.568466          3.283515        2.652874             2.532475   \n",
       "1        -0.826962         -0.487072       -0.023846             0.548144   \n",
       "2         0.942210          1.052926        1.363478             2.037231   \n",
       "3         3.283553          3.402909        1.915897             1.451707   \n",
       "4         0.280372          0.539340        1.371011             1.428493   \n",
       "\n",
       "   mean_symmetry  ...  worst_radius  worst_texture  worst_perimeter  \\\n",
       "0       2.217515  ...      1.886690      -1.359293         2.303601   \n",
       "1       0.001392  ...      1.805927      -0.369203         1.535126   \n",
       "2       0.939685  ...      1.511870      -0.023974         1.347475   \n",
       "3       2.867383  ...     -0.281464       0.133984        -0.249939   \n",
       "4      -0.009560  ...      1.298575      -1.466770         1.338539   \n",
       "\n",
       "   worst_area  worst_smoothness  worst_compactness  worst_concavity  \\\n",
       "0    2.001237          1.307686           2.616665         2.109526   \n",
       "1    1.890489         -0.375612          -0.430444        -0.146749   \n",
       "2    1.456285          0.527407           1.082932         0.854974   \n",
       "3   -0.550021          3.394275           3.893397         1.989588   \n",
       "4    1.220724          0.220556          -0.313395         0.613179   \n",
       "\n",
       "   worst_concave_points  worst_symmetry  worst_fractal_dimension  \n",
       "0              2.296076        2.750622                 1.937015  \n",
       "1              1.087084       -0.243890                 0.281190  \n",
       "2              1.955000        1.152255                 0.201391  \n",
       "3              2.175786        6.046041                 4.935010  \n",
       "4              0.729259       -0.868353                -0.397100  \n",
       "\n",
       "[5 rows x 31 columns]"
      ]
     },
     "metadata": {},
     "output_type": "display_data"
    }
   ],
   "source": [
    "import pandas as pd\n",
    "from scipy.stats import zscore\n",
    "import matplotlib.pyplot as plt\n",
    "from sklearn.metrics import roc_curve, auc \n",
    "import numpy as np\n",
    "import tensorflow\n",
    "from tensorflow.keras.models import Sequential\n",
    "from tensorflow.keras.layers import Dense, Activation\n",
    "from tensorflow.keras.callbacks import EarlyStopping\n",
    "from sklearn.model_selection import train_test_split\n",
    "from sklearn.linear_model import LinearRegression\n",
    "from sklearn import metrics\n",
    "df = pd.read_csv(\n",
    "    \"https://data.heatonresearch.com/data/t81-558/wcbreast_wdbc.csv\",\n",
    "    na_values=['NA','?'])\n",
    "\n",
    "\n",
    "df.drop(\"id\", axis=1, inplace=True)\n",
    "x_columns = df.columns.drop('diagnosis')\n",
    "for col in x_columns:\n",
    "    df[col] = zscore(df[col])\n",
    "display(df[0:5])\n",
    "\n",
    "\n"
   ]
  },
  {
   "cell_type": "code",
   "execution_count": 3,
   "metadata": {},
   "outputs": [
    {
     "data": {
      "image/png": "[encoded data removed]",
      "text/plain": [
       "<Figure size 432x288 with 1 Axes>"
      ]
     },
     "metadata": {
      "needs_background": "light"
     },
     "output_type": "display_data"
    }
   ],
   "source": [
    "%matplotlib inline\n",
    "import matplotlib.pyplot as plt\n",
    "import numpy as np\n",
    "import scipy.stats as stats\n",
    "import math\n",
    "\n",
    "mu1 = -2\n",
    "mu2 = 2\n",
    "variance = 1\n",
    "sigma = math.sqrt(variance)\n",
    "x1 = np.linspace(mu1 - 5*sigma, mu1 + 4*sigma, 100)\n",
    "x2 = np.linspace(mu2 - 5*sigma, mu2 + 4*sigma, 100)\n",
    "plt.plot(x1, stats.norm.pdf(x1, mu1, sigma)/1,color=\"green\")\n",
    "plt.plot(x2, stats.norm.pdf(x2, mu2, sigma)/1,color=\"red\")\n",
    "plt.axvline(x=-2,color=\"black\")\n",
    "plt.axvline(x=0,color=\"black\")\n",
    "plt.axvline(x=+2,color=\"black\")\n",
    "plt.text(-2.7,0.55,\"Sensitive\")\n",
    "plt.text(-0.7,0.55,\"Balanced\")\n",
    "plt.text(1.7,0.55,\"Specific\")\n",
    "plt.ylim([0,0.53])\n",
    "plt.xlim([-5,5])\n",
    "plt.legend(['Negative','Positive'])\n",
    "plt.yticks([])\n",
    "#plt.set_yticklabels([])\n",
    "plt.show()"
   ]
  },
  {
   "cell_type": "code",
   "execution_count": 4,
   "metadata": {},
   "outputs": [],
   "source": [
    "x = df[x_columns].values\n",
    "y = df[\"diagnosis\"].map({\"M\": 1, \"B\":0})"
   ]
  },
  {
   "cell_type": "code",
   "execution_count": 61,
   "metadata": {},
   "outputs": [],
   "source": [
    "def plot_confusion_matrix(cm, names, title=\"Confusion Matrix\", cmap=plt.cm.Blues):\n",
    "    plt.imshow(cm, interpolation=\"nearest\", cmap=cmap)\n",
    "    plt.title(title)\n",
    "    plt.colorbar()\n",
    "    tick_marks = np.arange(len(names))\n",
    "    plt.xticks(tick_marks, names, rotation=45)\n",
    "    plt.yticks(tick_marks, names)\n",
    "    plt.tight_layout()\n",
    "    plt.xlabel(\"True label\")\n",
    "    plt.ylabel(\"Predicted label\")\n",
    "    \n",
    "def plot_roc(y, pred):\n",
    "    fpr, tpr, _ = roc_curve(y, pred)\n",
    "    roc_auc = auc(fpr, tpr)\n",
    "\n",
    "    plt.figure()\n",
    "    plt.plot(fpr, tpr, label='ROC curve (area = %0.2f)' % roc_auc)\n",
    "    plt.plot([0, 1], [0, 1], 'k--')\n",
    "    plt.xlim([0.0, 1.0])\n",
    "    plt.ylim([0.0, 1.05])\n",
    "    plt.xlabel('False Positive Rate')\n",
    "    plt.ylabel('True Positive Rate')\n",
    "    plt.title('Receiver Operating Characteristic (ROC)')\n",
    "    plt.legend(loc=\"lower right\")\n",
    "    plt.show()"
   ]
  },
  {
   "cell_type": "code",
   "execution_count": 24,
   "metadata": {},
   "outputs": [
    {
     "name": "stdout",
     "output_type": "stream",
     "text": [
      "Train on 455 samples, validate on 114 samples\n",
      "Epoch 1/1000\n",
      "455/455 - 1s - loss: 0.6827 - accuracy: 0.7604 - val_loss: 0.6599 - val_accuracy: 0.9123\n",
      "Epoch 2/1000\n",
      "455/455 - 0s - loss: 0.6057 - accuracy: 0.9275 - val_loss: 0.4970 - val_accuracy: 0.9386\n",
      "Epoch 3/1000\n",
      "455/455 - 0s - loss: 0.3727 - accuracy: 0.9560 - val_loss: 0.2236 - val_accuracy: 0.9474\n",
      "Epoch 4/1000\n",
      "455/455 - 0s - loss: 0.1640 - accuracy: 0.9495 - val_loss: 0.1042 - val_accuracy: 0.9737\n",
      "Epoch 5/1000\n",
      "455/455 - 0s - loss: 0.0959 - accuracy: 0.9670 - val_loss: 0.0709 - val_accuracy: 0.9912\n",
      "Epoch 6/1000\n",
      "455/455 - 0s - loss: 0.0751 - accuracy: 0.9780 - val_loss: 0.0627 - val_accuracy: 0.9912\n",
      "Epoch 7/1000\n",
      "455/455 - 0s - loss: 0.0670 - accuracy: 0.9780 - val_loss: 0.0602 - val_accuracy: 0.9912\n",
      "Epoch 8/1000\n",
      "455/455 - 0s - loss: 0.0598 - accuracy: 0.9802 - val_loss: 0.0604 - val_accuracy: 0.9912\n",
      "Epoch 9/1000\n",
      "455/455 - 0s - loss: 0.0542 - accuracy: 0.9802 - val_loss: 0.0599 - val_accuracy: 0.9912\n",
      "Epoch 10/1000\n",
      "455/455 - 0s - loss: 0.0503 - accuracy: 0.9868 - val_loss: 0.0587 - val_accuracy: 0.9912\n",
      "Epoch 11/1000\n",
      "455/455 - 0s - loss: 0.0474 - accuracy: 0.9846 - val_loss: 0.0598 - val_accuracy: 0.9825\n",
      "Epoch 12/1000\n",
      "455/455 - 0s - loss: 0.0408 - accuracy: 0.9846 - val_loss: 0.0587 - val_accuracy: 0.9825\n",
      "Epoch 13/1000\n",
      "455/455 - 0s - loss: 0.0376 - accuracy: 0.9890 - val_loss: 0.0622 - val_accuracy: 0.9825\n",
      "Epoch 14/1000\n",
      "455/455 - 0s - loss: 0.0348 - accuracy: 0.9934 - val_loss: 0.0617 - val_accuracy: 0.9825\n",
      "Epoch 15/1000\n",
      "Restoring model weights from the end of the best epoch.\n",
      "455/455 - 0s - loss: 0.0328 - accuracy: 0.9934 - val_loss: 0.0649 - val_accuracy: 0.9825\n",
      "Epoch 00015: early stopping\n"
     ]
    },
    {
     "data": {
      "text/plain": [
       "<tensorflow.python.keras.callbacks.History at 0x135343c8>"
      ]
     },
     "execution_count": 24,
     "metadata": {},
     "output_type": "execute_result"
    }
   ],
   "source": [
    "x_train, x_test, y_train, y_test = train_test_split(x, y, test_size=0.2)\n",
    "\n",
    "model = Sequential()\n",
    "model.add(Dense(100, input_dim=x.shape[1], activation=\"relu\", kernel_initializer=\"random_normal\"))\n",
    "model.add(Dense(50, activation=\"relu\", kernel_initializer=\"random_normal\"))\n",
    "model.add(Dense(25, activation=\"relu\", kernel_initializer=\"random_normal\"))\n",
    "model.add(Dense(1, activation=\"sigmoid\", kernel_initializer=\"random_normal\"))\n",
    "\n",
    "model.compile(loss=\"binary_crossentropy\", \n",
    "             optimizer = tensorflow.keras.optimizers.Adam(),\n",
    "             metrics = [\"accuracy\"])\n",
    "monitor = EarlyStopping(monitor=\"val_loss\", min_delta=1e-3, patience=5, verbose=1, mode=\"auto\",\n",
    "                       restore_best_weights=True)\n",
    "model.fit(x_train, y_train, validation_data=(x_test, y_test), callbacks=[monitor], verbose=2, epochs=1000)\n"
   ]
  },
  {
   "cell_type": "code",
   "execution_count": 30,
   "metadata": {},
   "outputs": [
    {
     "data": {
      "image/png": "[encoded data removed]",
      "text/plain": [
       "<Figure size 432x288 with 1 Axes>"
      ]
     },
     "metadata": {
      "needs_background": "light"
     },
     "output_type": "display_data"
    }
   ],
   "source": [
    "pred = model.predict(x_test)\n",
    "plot_roc(y_test, pred)"
   ]
  },
  {
   "cell_type": "code",
   "execution_count": 24,
   "metadata": {},
   "outputs": [],
   "source": [
    "df = pd.read_csv(\n",
    "    \"https://data.heatonresearch.com/data/t81-558/jh-simple-dataset.csv\",\n",
    "    na_values=['NA','?'])\n",
    "\n",
    "df.drop(\"id\", inplace = True, axis=1)\n",
    "\n",
    "dummies = pd.get_dummies(df[\"area\"], prefix=\"area\")\n",
    "df = pd.concat([df, dummies], axis=1)\n",
    "df = df.drop(\"area\", axis=1)\n",
    "dummies = pd.get_dummies(df[\"job\"], prefix=\"job\")\n",
    "df = pd.concat([df, dummies], axis = 1)\n",
    "df = df.drop(\"job\", axis=1)"
   ]
  },
  {
   "cell_type": "code",
   "execution_count": 25,
   "metadata": {},
   "outputs": [
    {
     "name": "stderr",
     "output_type": "stream",
     "text": [
      "C:\\ProgramData\\Anaconda3\\envs\\ml_bace\\lib\\site-packages\\ipykernel_launcher.py:7: SettingWithCopyWarning: \n",
      "A value is trying to be set on a copy of a slice from a DataFrame.\n",
      "Try using .loc[row_indexer,col_indexer] = value instead\n",
      "\n",
      "See the caveats in the documentation: https://pandas.pydata.org/pandas-docs/stable/user_guide/indexing.html#returning-a-view-versus-a-copy\n",
      "  import sys\n"
     ]
    }
   ],
   "source": [
    "nonna = df[df[\"income\"].notna()]\n",
    "isna = df[df[\"income\"].isnull()]\n",
    "nx = nonna.drop([\"income\", \"product\"], axis=1).values\n",
    "ny = nonna[\"income\"].values\n",
    "nx_train, nx_test, ny_train, ny_test = train_test_split(nx, ny, test_size=0.2)\n",
    "reg = LinearRegression().fit(nx_train, ny_train)\n",
    "isna[\"income\"] = reg.predict(isna.drop([\"income\", \"product\"], axis=1))\n",
    "df = pd.concat([isna, nonna], axis=0)"
   ]
  },
  {
   "cell_type": "code",
   "execution_count": 26,
   "metadata": {},
   "outputs": [],
   "source": [
    "df['income'] = zscore(df['income'])\n",
    "df['aspect'] = zscore(df['aspect'])\n",
    "df['save_rate'] = zscore(df['save_rate'])\n",
    "df['age'] = zscore(df['age'])\n",
    "df['subscriptions'] = zscore(df['subscriptions'])\n",
    "df['aspect'] = zscore(df['aspect'])\n",
    "df['save_rate'] = zscore(df['save_rate'])\n",
    "df['age'] = zscore(df['age'])\n",
    "df['subscriptions'] = zscore(df['subscriptions'])\n"
   ]
  },
  {
   "cell_type": "code",
   "execution_count": 27,
   "metadata": {},
   "outputs": [
    {
     "data": {
      "text/html": [
       "<div>\n",
       "<style scoped>\n",
       "    .dataframe tbody tr th:only-of-type {\n",
       "        vertical-align: middle;\n",
       "    }\n",
       "\n",
       "    .dataframe tbody tr th {\n",
       "        vertical-align: top;\n",
       "    }\n",
       "\n",
       "    .dataframe thead th {\n",
       "        text-align: right;\n",
       "    }\n",
       "</style>\n",
       "<table border=\"1\" class=\"dataframe\">\n",
       "  <thead>\n",
       "    <tr style=\"text-align: right;\">\n",
       "      <th></th>\n",
       "      <th>income</th>\n",
       "      <th>aspect</th>\n",
       "      <th>subscriptions</th>\n",
       "      <th>dist_healthy</th>\n",
       "      <th>save_rate</th>\n",
       "      <th>dist_unhealthy</th>\n",
       "      <th>age</th>\n",
       "      <th>pop_dense</th>\n",
       "      <th>retail_dense</th>\n",
       "      <th>crime</th>\n",
       "      <th>...</th>\n",
       "      <th>job_pe</th>\n",
       "      <th>job_po</th>\n",
       "      <th>job_pq</th>\n",
       "      <th>job_pz</th>\n",
       "      <th>job_qp</th>\n",
       "      <th>job_qw</th>\n",
       "      <th>job_rn</th>\n",
       "      <th>job_sa</th>\n",
       "      <th>job_vv</th>\n",
       "      <th>job_zz</th>\n",
       "    </tr>\n",
       "  </thead>\n",
       "  <tbody>\n",
       "    <tr>\n",
       "      <th>35</th>\n",
       "      <td>0.092005</td>\n",
       "      <td>-0.494600</td>\n",
       "      <td>-0.208449</td>\n",
       "      <td>5.454545</td>\n",
       "      <td>-0.387695</td>\n",
       "      <td>5.240972</td>\n",
       "      <td>1.124377</td>\n",
       "      <td>0.874016</td>\n",
       "      <td>0.417323</td>\n",
       "      <td>0.238394</td>\n",
       "      <td>...</td>\n",
       "      <td>0</td>\n",
       "      <td>0</td>\n",
       "      <td>0</td>\n",
       "      <td>0</td>\n",
       "      <td>0</td>\n",
       "      <td>0</td>\n",
       "      <td>0</td>\n",
       "      <td>0</td>\n",
       "      <td>0</td>\n",
       "      <td>0</td>\n",
       "    </tr>\n",
       "    <tr>\n",
       "      <th>69</th>\n",
       "      <td>0.061258</td>\n",
       "      <td>-0.996591</td>\n",
       "      <td>-0.208449</td>\n",
       "      <td>9.289907</td>\n",
       "      <td>-0.542432</td>\n",
       "      <td>4.717718</td>\n",
       "      <td>0.314210</td>\n",
       "      <td>0.858268</td>\n",
       "      <td>0.503937</td>\n",
       "      <td>0.263349</td>\n",
       "      <td>...</td>\n",
       "      <td>0</td>\n",
       "      <td>0</td>\n",
       "      <td>0</td>\n",
       "      <td>0</td>\n",
       "      <td>0</td>\n",
       "      <td>0</td>\n",
       "      <td>0</td>\n",
       "      <td>0</td>\n",
       "      <td>0</td>\n",
       "      <td>0</td>\n",
       "    </tr>\n",
       "    <tr>\n",
       "      <th>101</th>\n",
       "      <td>0.675654</td>\n",
       "      <td>1.360973</td>\n",
       "      <td>-1.255928</td>\n",
       "      <td>16.715820</td>\n",
       "      <td>-0.353308</td>\n",
       "      <td>11.770971</td>\n",
       "      <td>-0.495957</td>\n",
       "      <td>0.925197</td>\n",
       "      <td>0.692913</td>\n",
       "      <td>0.086156</td>\n",
       "      <td>...</td>\n",
       "      <td>0</td>\n",
       "      <td>0</td>\n",
       "      <td>0</td>\n",
       "      <td>0</td>\n",
       "      <td>0</td>\n",
       "      <td>0</td>\n",
       "      <td>0</td>\n",
       "      <td>0</td>\n",
       "      <td>0</td>\n",
       "      <td>0</td>\n",
       "    </tr>\n",
       "    <tr>\n",
       "      <th>134</th>\n",
       "      <td>-0.131529</td>\n",
       "      <td>-1.408940</td>\n",
       "      <td>-0.208449</td>\n",
       "      <td>7.875447</td>\n",
       "      <td>0.282834</td>\n",
       "      <td>10.313334</td>\n",
       "      <td>-0.495957</td>\n",
       "      <td>0.826772</td>\n",
       "      <td>0.586614</td>\n",
       "      <td>0.303499</td>\n",
       "      <td>...</td>\n",
       "      <td>0</td>\n",
       "      <td>0</td>\n",
       "      <td>0</td>\n",
       "      <td>1</td>\n",
       "      <td>0</td>\n",
       "      <td>0</td>\n",
       "      <td>0</td>\n",
       "      <td>0</td>\n",
       "      <td>0</td>\n",
       "      <td>0</td>\n",
       "    </tr>\n",
       "    <tr>\n",
       "      <th>155</th>\n",
       "      <td>0.668905</td>\n",
       "      <td>0.724521</td>\n",
       "      <td>-0.208449</td>\n",
       "      <td>12.989263</td>\n",
       "      <td>0.661081</td>\n",
       "      <td>33.368554</td>\n",
       "      <td>-0.766013</td>\n",
       "      <td>0.992126</td>\n",
       "      <td>0.775591</td>\n",
       "      <td>0.443469</td>\n",
       "      <td>...</td>\n",
       "      <td>0</td>\n",
       "      <td>0</td>\n",
       "      <td>0</td>\n",
       "      <td>1</td>\n",
       "      <td>0</td>\n",
       "      <td>0</td>\n",
       "      <td>0</td>\n",
       "      <td>0</td>\n",
       "      <td>0</td>\n",
       "      <td>0</td>\n",
       "    </tr>\n",
       "  </tbody>\n",
       "</table>\n",
       "<p>5 rows × 48 columns</p>\n",
       "</div>"
      ],
      "text/plain": [
       "       income    aspect  subscriptions  dist_healthy  save_rate  \\\n",
       "35   0.092005 -0.494600      -0.208449      5.454545  -0.387695   \n",
       "69   0.061258 -0.996591      -0.208449      9.289907  -0.542432   \n",
       "101  0.675654  1.360973      -1.255928     16.715820  -0.353308   \n",
       "134 -0.131529 -1.408940      -0.208449      7.875447   0.282834   \n",
       "155  0.668905  0.724521      -0.208449     12.989263   0.661081   \n",
       "\n",
       "     dist_unhealthy       age  pop_dense  retail_dense     crime  ... job_pe  \\\n",
       "35         5.240972  1.124377   0.874016      0.417323  0.238394  ...      0   \n",
       "69         4.717718  0.314210   0.858268      0.503937  0.263349  ...      0   \n",
       "101       11.770971 -0.495957   0.925197      0.692913  0.086156  ...      0   \n",
       "134       10.313334 -0.495957   0.826772      0.586614  0.303499  ...      0   \n",
       "155       33.368554 -0.766013   0.992126      0.775591  0.443469  ...      0   \n",
       "\n",
       "     job_po  job_pq  job_pz  job_qp  job_qw  job_rn  job_sa  job_vv  job_zz  \n",
       "35        0       0       0       0       0       0       0       0       0  \n",
       "69        0       0       0       0       0       0       0       0       0  \n",
       "101       0       0       0       0       0       0       0       0       0  \n",
       "134       0       0       1       0       0       0       0       0       0  \n",
       "155       0       0       1       0       0       0       0       0       0  \n",
       "\n",
       "[5 rows x 48 columns]"
      ]
     },
     "execution_count": 27,
     "metadata": {},
     "output_type": "execute_result"
    }
   ],
   "source": [
    "df.head()"
   ]
  },
  {
   "cell_type": "code",
   "execution_count": 30,
   "metadata": {},
   "outputs": [],
   "source": [
    "x_columns = df.columns.drop('product')\n",
    "x = df[x_columns].values\n",
    "dummies = pd.get_dummies(df['product']) # Classification\n",
    "products = dummies.columns\n",
    "y = dummies.values\n",
    "x_train, x_test, y_train, y_test = train_test_split(x, y, test_size=0.2)"
   ]
  },
  {
   "cell_type": "code",
   "execution_count": 35,
   "metadata": {},
   "outputs": [
    {
     "name": "stdout",
     "output_type": "stream",
     "text": [
      "Train on 1600 samples, validate on 400 samples\n",
      "Epoch 1/1000\n",
      "1600/1600 - 1s - loss: 1.6134 - accuracy: 0.3594 - val_loss: 1.1698 - val_accuracy: 0.4750\n",
      "Epoch 2/1000\n",
      "1600/1600 - 0s - loss: 1.1519 - accuracy: 0.4837 - val_loss: 1.1040 - val_accuracy: 0.4850\n",
      "Epoch 3/1000\n",
      "1600/1600 - 0s - loss: 1.0662 - accuracy: 0.4944 - val_loss: 0.9532 - val_accuracy: 0.5125\n",
      "Epoch 4/1000\n",
      "1600/1600 - 0s - loss: 0.9203 - accuracy: 0.6144 - val_loss: 0.7994 - val_accuracy: 0.6975\n",
      "Epoch 5/1000\n",
      "1600/1600 - 0s - loss: 0.8243 - accuracy: 0.6650 - val_loss: 0.7553 - val_accuracy: 0.6925\n",
      "Epoch 6/1000\n",
      "1600/1600 - 0s - loss: 0.7820 - accuracy: 0.6837 - val_loss: 0.7229 - val_accuracy: 0.7275\n",
      "Epoch 7/1000\n",
      "1600/1600 - 0s - loss: 0.7763 - accuracy: 0.6675 - val_loss: 0.6957 - val_accuracy: 0.7300\n",
      "Epoch 8/1000\n",
      "1600/1600 - 0s - loss: 0.7437 - accuracy: 0.6869 - val_loss: 0.6975 - val_accuracy: 0.7125\n",
      "Epoch 9/1000\n",
      "1600/1600 - 0s - loss: 0.7331 - accuracy: 0.6844 - val_loss: 0.6990 - val_accuracy: 0.7150\n",
      "Epoch 10/1000\n",
      "1600/1600 - 0s - loss: 0.7225 - accuracy: 0.6819 - val_loss: 0.7058 - val_accuracy: 0.7150\n",
      "Epoch 11/1000\n",
      "1600/1600 - 0s - loss: 0.7122 - accuracy: 0.6944 - val_loss: 0.6701 - val_accuracy: 0.7250\n",
      "Epoch 12/1000\n",
      "1600/1600 - 0s - loss: 0.6924 - accuracy: 0.6988 - val_loss: 0.6592 - val_accuracy: 0.7300\n",
      "Epoch 13/1000\n",
      "1600/1600 - 0s - loss: 0.6885 - accuracy: 0.6975 - val_loss: 0.6697 - val_accuracy: 0.7225\n",
      "Epoch 14/1000\n",
      "1600/1600 - 0s - loss: 0.6790 - accuracy: 0.7050 - val_loss: 0.6706 - val_accuracy: 0.7100\n",
      "Epoch 15/1000\n",
      "1600/1600 - 0s - loss: 0.6909 - accuracy: 0.7100 - val_loss: 0.6670 - val_accuracy: 0.7025\n",
      "Epoch 16/1000\n",
      "1600/1600 - 0s - loss: 0.6809 - accuracy: 0.7031 - val_loss: 0.6837 - val_accuracy: 0.7050\n",
      "Epoch 17/1000\n",
      "1600/1600 - 0s - loss: 0.6763 - accuracy: 0.7106 - val_loss: 0.6422 - val_accuracy: 0.7275\n",
      "Epoch 18/1000\n",
      "1600/1600 - 0s - loss: 0.6613 - accuracy: 0.7150 - val_loss: 0.6344 - val_accuracy: 0.7325\n",
      "Epoch 19/1000\n",
      "1600/1600 - 0s - loss: 0.6581 - accuracy: 0.7063 - val_loss: 0.6308 - val_accuracy: 0.7500\n",
      "Epoch 20/1000\n",
      "1600/1600 - 0s - loss: 0.6546 - accuracy: 0.7156 - val_loss: 0.6347 - val_accuracy: 0.7350\n",
      "Epoch 21/1000\n",
      "1600/1600 - 0s - loss: 0.6513 - accuracy: 0.7206 - val_loss: 0.6285 - val_accuracy: 0.7350\n",
      "Epoch 22/1000\n",
      "1600/1600 - 0s - loss: 0.6492 - accuracy: 0.7181 - val_loss: 0.6463 - val_accuracy: 0.7125\n",
      "Epoch 23/1000\n",
      "1600/1600 - 0s - loss: 0.6367 - accuracy: 0.7281 - val_loss: 0.6337 - val_accuracy: 0.7500\n",
      "Epoch 24/1000\n",
      "1600/1600 - 0s - loss: 0.6511 - accuracy: 0.7188 - val_loss: 0.7685 - val_accuracy: 0.6525\n",
      "Epoch 25/1000\n",
      "1600/1600 - 0s - loss: 0.6361 - accuracy: 0.7100 - val_loss: 0.6172 - val_accuracy: 0.7375\n",
      "Epoch 26/1000\n",
      "1600/1600 - 0s - loss: 0.6265 - accuracy: 0.7306 - val_loss: 0.6337 - val_accuracy: 0.7250\n",
      "Epoch 27/1000\n",
      "1600/1600 - 0s - loss: 0.6351 - accuracy: 0.7194 - val_loss: 0.6678 - val_accuracy: 0.7050\n",
      "Epoch 28/1000\n",
      "1600/1600 - 0s - loss: 0.6179 - accuracy: 0.7312 - val_loss: 0.6262 - val_accuracy: 0.7325\n",
      "Epoch 29/1000\n",
      "1600/1600 - 0s - loss: 0.6230 - accuracy: 0.7275 - val_loss: 0.6329 - val_accuracy: 0.7275\n",
      "Epoch 30/1000\n",
      "Restoring model weights from the end of the best epoch.\n",
      "1600/1600 - 0s - loss: 0.6131 - accuracy: 0.7331 - val_loss: 0.6217 - val_accuracy: 0.7425\n",
      "Epoch 00030: early stopping\n"
     ]
    },
    {
     "data": {
      "text/plain": [
       "<tensorflow.python.keras.callbacks.History at 0x14a2a248>"
      ]
     },
     "execution_count": 35,
     "metadata": {},
     "output_type": "execute_result"
    }
   ],
   "source": [
    "model = Sequential()\n",
    "model.add(Dense(100, input_dim=x_train.shape[1], activation=\"relu\", kernel_initializer=\"random_normal\"))\n",
    "model.add(Dense(50, activation=\"relu\", kernel_initializer=\"random_normal\"))\n",
    "model.add(Dense(25, activation=\"relu\", kernel_initializer=\"random_normal\"))\n",
    "model.add(Dense(y.shape[1], activation=\"softmax\", kernel_initializer=\"random_normal\"))\n",
    "model.compile(loss=\"categorical_crossentropy\", optimizer=tensorflow.keras.optimizers.Adam(), metrics=[\"accuracy\"])\n",
    "monitor = EarlyStopping(monitor=\"val_loss\", min_delta=1e-3, patience=5, verbose=1,\n",
    "                        mode=\"auto\", restore_best_weights=True)\n",
    "model.fit(x_train,y_train,validation_data=(x_test,y_test),callbacks=[monitor],verbose=2,epochs=1000)\n",
    "\n"
   ]
  },
  {
   "cell_type": "code",
   "execution_count": 43,
   "metadata": {},
   "outputs": [
    {
     "data": {
      "text/plain": [
       "array([1, 1, 2, 1, 1, 1, 2, 1, 0, 2, 1, 1, 1, 1, 2, 3, 2, 1, 2, 2, 2, 1,\n",
       "       2, 2, 0, 0, 2, 2, 1, 1, 2, 1, 1, 1, 1, 2, 2, 2, 2, 1, 1, 1, 2, 2,\n",
       "       2, 2, 1, 2, 2, 1, 1, 2, 2, 2, 2, 2, 1, 1, 2, 2, 2, 2, 2, 2, 1, 1,\n",
       "       1, 2, 1, 1, 1, 2, 2, 1, 3, 2, 2, 1, 2, 0, 1, 2, 1, 1, 0, 2, 2, 2,\n",
       "       2, 1, 1, 3, 2, 2, 2, 2, 1, 2, 1, 1, 2, 2, 2, 2, 1, 3, 2, 1, 1, 1,\n",
       "       2, 2, 1, 1, 1, 1, 2, 1, 0, 1, 1, 0, 0, 2, 1, 2, 2, 1, 1, 1, 1, 1,\n",
       "       1, 0, 2, 2, 1, 2, 0, 2, 2, 2, 2, 1, 1, 0, 2, 1, 1, 0, 1, 1, 2, 2,\n",
       "       2, 1, 0, 1, 1, 1, 1, 2, 2, 1, 1, 1, 2, 1, 1, 1, 0, 2, 2, 1, 2, 2,\n",
       "       2, 2, 0, 2, 0, 1, 2, 0, 2, 1, 1, 2, 2, 1, 0, 0, 2, 1, 1, 2, 2, 0,\n",
       "       2, 1, 2, 1, 1, 1, 0, 1, 2, 0, 1, 2, 2, 2, 2, 1, 1, 1, 1, 2, 3, 1,\n",
       "       2, 2, 2, 2, 2, 2, 1, 2, 1, 0, 1, 1, 2, 2, 0, 0, 0, 0, 2, 2, 2, 1,\n",
       "       2, 1, 1, 1, 2, 2, 2, 3, 1, 1, 2, 1, 3, 2, 0, 0, 1, 2, 2, 2, 2, 1,\n",
       "       2, 2, 1, 0, 0, 0, 2, 2, 1, 2, 1, 1, 0, 1, 2, 0, 0, 2, 2, 3, 1, 1,\n",
       "       1, 3, 0, 1, 2, 1, 1, 1, 1, 2, 2, 2, 1, 2, 1, 1, 2, 1, 0, 0, 1, 1,\n",
       "       1, 0, 1, 2, 1, 2, 2, 1, 1, 1, 2, 3, 1, 1, 2, 2, 0, 2, 1, 1, 2, 1,\n",
       "       2, 1, 1, 2, 3, 0, 1, 0, 1, 1, 2, 1, 2, 1, 1, 1, 1, 1, 1, 1, 1, 1,\n",
       "       1, 0, 1, 2, 0, 2, 0, 1, 1, 1, 2, 1, 1, 2, 1, 1, 0, 2, 2, 2, 0, 1,\n",
       "       2, 2, 1, 2, 2, 1, 1, 2, 2, 1, 2, 2, 1, 1, 2, 1, 2, 1, 1, 1, 1, 1,\n",
       "       0, 0, 2, 1], dtype=int64)"
      ]
     },
     "execution_count": 43,
     "metadata": {},
     "output_type": "execute_result"
    }
   ],
   "source": [
    "pred = model.predict(x_test)\n",
    "pred = np.argmax(pred, axis=1)\n",
    "pred"
   ]
  },
  {
   "cell_type": "code",
   "execution_count": 47,
   "metadata": {},
   "outputs": [
    {
     "data": {
      "text/plain": [
       "0.7375"
      ]
     },
     "execution_count": 47,
     "metadata": {},
     "output_type": "execute_result"
    }
   ],
   "source": [
    "y_compare = np.argmax(y_test, axis=1)\n",
    "score = metrics.accuracy_score(y_compare, pred)\n",
    "score"
   ]
  },
  {
   "cell_type": "code",
   "execution_count": 48,
   "metadata": {},
   "outputs": [
    {
     "name": "stdout",
     "output_type": "stream",
     "text": [
      "Numpy array of predictions\n"
     ]
    },
    {
     "data": {
      "text/plain": [
       "array([[0.0013, 0.8839, 0.0732, 0.    , 0.0274, 0.0142, 0.0001],\n",
       "       [0.    , 0.6475, 0.3513, 0.    , 0.0011, 0.0002, 0.    ],\n",
       "       [0.    , 0.4613, 0.5377, 0.0002, 0.0007, 0.0001, 0.    ],\n",
       "       [0.    , 0.7467, 0.2466, 0.    , 0.0062, 0.0004, 0.    ],\n",
       "       [0.0001, 0.8706, 0.1176, 0.    , 0.0097, 0.002 , 0.    ]],\n",
       "      dtype=float32)"
      ]
     },
     "metadata": {},
     "output_type": "display_data"
    },
    {
     "name": "stdout",
     "output_type": "stream",
     "text": [
      "As percent probability\n",
      "[ 0.1283 88.3865  7.3177  0.      2.742   1.4204  0.0051]\n",
      "Log loss score: 0.6171763699594885\n"
     ]
    }
   ],
   "source": [
    "from IPython.display import display\n",
    "\n",
    "# Don't display numpy in scientific notation\n",
    "np.set_printoptions(precision=4)\n",
    "np.set_printoptions(suppress=True)\n",
    "\n",
    "# Generate predictions\n",
    "pred = model.predict(x_test)\n",
    "\n",
    "print(\"Numpy array of predictions\")\n",
    "display(pred[0:5])\n",
    "\n",
    "print(\"As percent probability\")\n",
    "print(pred[0]*100)\n",
    "\n",
    "score = metrics.log_loss(y_test, pred)\n",
    "print(\"Log loss score: {}\".format(score))\n",
    "\n",
    "pred = np.argmax(pred,axis=1) # raw probabilities to chosen class (highest probability)"
   ]
  },
  {
   "cell_type": "code",
   "execution_count": 59,
   "metadata": {},
   "outputs": [
    {
     "name": "stderr",
     "output_type": "stream",
     "text": [
      "C:\\ProgramData\\Anaconda3\\envs\\ml_bace\\lib\\site-packages\\ipykernel_launcher.py:8: RuntimeWarning: divide by zero encountered in log\n",
      "  \n"
     ]
    },
    {
     "data": {
      "text/plain": [
       "Text(0.5, 1.0, 'log(x)')"
      ]
     },
     "execution_count": 59,
     "metadata": {},
     "output_type": "execute_result"
    },
    {
     "data": {
      "image/png": "[encoded data removed]",
      "text/plain": [
       "<Figure size 864x720 with 1 Axes>"
      ]
     },
     "metadata": {
      "needs_background": "light"
     },
     "output_type": "display_data"
    }
   ],
   "source": [
    "%matplotlib inline\n",
    "#t = np.arange(1e-5, 5.0, 0.00001)\n",
    "#t = np.arange(1.0, 5.0, 0.00001) # computer scientists\n",
    "t = np.arange(0.0, 1.0, 0.00001)  # data     scientists\n",
    "\n",
    "fig = plt.figure(1, figsize=(12, 10))\n",
    "ax1 = fig.add_subplot(211)\n",
    "ax1.plot(t, np.log(t))\n",
    "ax1.grid(True)\n",
    "ax1.set_ylim((-8, 1.5))\n",
    "ax1.set_xlim((-0.1, 2))\n",
    "ax1.set_xlabel('x')\n",
    "ax1.set_ylabel('y')\n",
    "ax1.set_title('log(x)')\n",
    "\n"
   ]
  },
  {
   "cell_type": "code",
   "execution_count": 62,
   "metadata": {},
   "outputs": [
    {
     "name": "stdout",
     "output_type": "stream",
     "text": [
      "Confusion matrix, without normalization\n",
      "[[ 26   1   0   0   0   0   0]\n",
      " [  5 144  40   1   0   0   0]\n",
      " [  0  26 119   4   0   0   0]\n",
      " [  0   0   4   6   0   0   0]\n",
      " [  0   3   0   0   0   0   0]\n",
      " [ 16   3   0   0   0   0   0]\n",
      " [  2   0   0   0   0   0   0]]\n",
      "Normalized confusion matrix\n",
      "[[0.96 0.04 0.   0.   0.   0.   0.  ]\n",
      " [0.03 0.76 0.21 0.01 0.   0.   0.  ]\n",
      " [0.   0.17 0.8  0.03 0.   0.   0.  ]\n",
      " [0.   0.   0.4  0.6  0.   0.   0.  ]\n",
      " [0.   1.   0.   0.   0.   0.   0.  ]\n",
      " [0.84 0.16 0.   0.   0.   0.   0.  ]\n",
      " [1.   0.   0.   0.   0.   0.   0.  ]]\n"
     ]
    },
    {
     "data": {
      "image/png": "[encoded data removed]",
      "text/plain": [
       "<Figure size 432x288 with 2 Axes>"
      ]
     },
     "metadata": {
      "needs_background": "light"
     },
     "output_type": "display_data"
    },
    {
     "data": {
      "image/png": "[encoded data removed]",
      "text/plain": [
       "<Figure size 432x288 with 2 Axes>"
      ]
     },
     "metadata": {
      "needs_background": "light"
     },
     "output_type": "display_data"
    }
   ],
   "source": [
    "import numpy as np\n",
    "from sklearn import svm, datasets\n",
    "from sklearn.model_selection import train_test_split\n",
    "from sklearn.metrics import confusion_matrix\n",
    "\n",
    "# Compute confusion matrix\n",
    "cm = confusion_matrix(y_compare, pred)\n",
    "np.set_printoptions(precision=2)\n",
    "print('Confusion matrix, without normalization')\n",
    "print(cm)\n",
    "plt.figure()\n",
    "plot_confusion_matrix(cm, products)\n",
    "\n",
    "# Normalize the confusion matrix by row (i.e by the number of samples\n",
    "# in each class)\n",
    "\n",
    "cm_normalized = cm.astype('float') / cm.sum(axis=1)[:, np.newaxis]\n",
    "print('Normalized confusion matrix')\n",
    "print(cm_normalized)\n",
    "plt.figure()\n",
    "plot_confusion_matrix(cm_normalized, products, title='Normalized confusion matrix')\n",
    "\n",
    "plt.show()"
   ]
  },
  {
   "cell_type": "code",
   "execution_count": 63,
   "metadata": {},
   "outputs": [
    {
     "name": "stdout",
     "output_type": "stream",
     "text": [
      "[[ 26.   1.   0.   0.   0.   0.   0.]\n",
      " [  5. 144.  40.   1.   0.   0.   0.]\n",
      " [  0.  26. 119.   4.   0.   0.   0.]\n",
      " [  0.   0.   4.   6.   0.   0.   0.]\n",
      " [  0.   3.   0.   0.   0.   0.   0.]\n",
      " [ 16.   3.   0.   0.   0.   0.   0.]\n",
      " [  2.   0.   0.   0.   0.   0.   0.]]\n",
      "[[ 27]\n",
      " [190]\n",
      " [149]\n",
      " [ 10]\n",
      " [  3]\n",
      " [ 19]\n",
      " [  2]]\n"
     ]
    }
   ],
   "source": [
    "print(cm.astype('float')) \n",
    "print(cm.sum(axis=1)[:, np.newaxis])"
   ]
  },
  {
   "cell_type": "code",
   "execution_count": null,
   "metadata": {},
   "outputs": [],
   "source": []
  }
 ],
 "metadata": {
  "kernelspec": {
   "display_name": "Python 3",
   "language": "python",
   "name": "python3"
  },
  "language_info": {
   "codemirror_mode": {
    "name": "ipython",
    "version": 3
   },
   "file_extension": ".py",
   "mimetype": "text/x-python",
   "name": "python",
   "nbconvert_exporter": "python",
   "pygments_lexer": "ipython3",
   "version": "3.7.7"
  }
 },
 "nbformat": 4,
 "nbformat_minor": 4
}
